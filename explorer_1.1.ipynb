{
 "cells": [
  {
   "cell_type": "code",
   "execution_count": 1,
   "metadata": {},
   "outputs": [],
   "source": [
    "import pandas as pd\n",
    "import seaborn as sns\n",
    "import numpy as np\n",
    "import matplotlib.pyplot as plt\n",
    "%matplotlib inline"
   ]
  },
  {
   "cell_type": "code",
   "execution_count": 314,
   "metadata": {},
   "outputs": [],
   "source": [
    "#!ls"
   ]
  },
  {
   "cell_type": "code",
   "execution_count": 315,
   "metadata": {},
   "outputs": [],
   "source": [
    "#raw_df = pd.read_csv(\"shampoo-sales.csv\")\n",
    "\n",
    "#raw_df.head(5)"
   ]
  },
  {
   "cell_type": "code",
   "execution_count": 316,
   "metadata": {},
   "outputs": [],
   "source": [
    "#raw_df = raw_df.sort_values(\n",
    "   # by=\"Month\",\n",
    "    #ascending=True\n",
    "#)\n",
    "\n",
    "#raw_df"
   ]
  },
  {
   "cell_type": "code",
   "execution_count": 317,
   "metadata": {},
   "outputs": [],
   "source": [
    "#raw_df.columns = [\n",
    "   # \"_\".join(each.lower().split())for each in raw_df.columns\n",
    "#]\n",
    "#raw_df"
   ]
  },
  {
   "cell_type": "markdown",
   "metadata": {},
   "source": [
    "Some good models include:\n",
    "- **EWMA (Holt-Winters) from statsmodels**\n",
    "- ARIMA (and SARIMA, optional) from statsmodels as well\n",
    "- Use feature engineering to create a tree-based forecaster (Gradient Boosting Regressor from sklearn). the features you would use are lags.\n",
    "- You can use the facebook prophet package to achieve the same"
   ]
  },
  {
   "cell_type": "markdown",
   "metadata": {},
   "source": [
    "### homework\n",
    "1. If you can make ARIMA or prophet work, would be great for a fruitful session #2\n",
    "2. Try using flask to deploy on your machine"
   ]
  },
  {
   "cell_type": "markdown",
   "metadata": {},
   "source": [
    "### Exponential Smoothing"
   ]
  },
  {
   "cell_type": "code",
   "execution_count": 2,
   "metadata": {},
   "outputs": [],
   "source": [
    "from statsmodels.tsa.holtwinters import ExponentialSmoothing"
   ]
  },
  {
   "cell_type": "code",
   "execution_count": 3,
   "metadata": {},
   "outputs": [],
   "source": [
    "#train_df = raw_df[:-1].copy()\n",
    "\n",
    "#train_df"
   ]
  },
  {
   "cell_type": "markdown",
   "metadata": {},
   "source": [
    "#### To generate forecasts for JANUARY 2021, make sure your dataset has data up until 31/12/2020"
   ]
  },
  {
   "cell_type": "markdown",
   "metadata": {},
   "source": [
    "IN your task:\n",
    "Forecast\n",
    "    - filter out data from raw_df\n",
    "    - Category 'Alkohounfaelle'\n",
    "    - Type 'ingesamt'\n",
    "    - Year '2021'\n",
    "    - Month '01\n",
    "    \n",
    "#### Then Filter\n",
    "- Category 'Alkohounfaelle'\n",
    "- Type 'ingesamt'\n",
    "\n",
    "-> train_df"
   ]
  },
  {
   "cell_type": "code",
   "execution_count": 320,
   "metadata": {},
   "outputs": [],
   "source": [
    "# pass \"predictor\" series of train_df to function\n",
    "#model = ExponentialSmoothing(train_df.sales_of_shampoo_over_a_three_year_period).fit()"
   ]
  },
  {
   "cell_type": "markdown",
   "metadata": {},
   "source": [
    "#### To generate forecasts simply ask pass how many steps to the model\n",
    "1 month = 31 days = 31 steps"
   ]
  },
  {
   "cell_type": "code",
   "execution_count": 321,
   "metadata": {},
   "outputs": [],
   "source": [
    "#model.forecast(steps=3)"
   ]
  },
  {
   "cell_type": "markdown",
   "metadata": {},
   "source": [
    "## Actual Data"
   ]
  },
  {
   "cell_type": "code",
   "execution_count": 322,
   "metadata": {},
   "outputs": [],
   "source": [
    "#!ls"
   ]
  },
  {
   "cell_type": "code",
   "execution_count": 323,
   "metadata": {},
   "outputs": [],
   "source": [
    "eda_df = pd.read_csv(\n",
    "    \"210619monatszahlenjuni2021monatszahlen2106verkehrsunfaelle.csv\"\n",
    ")\n",
    "\n",
    "eda_df.columns = [each.lower() for each in eda_df.columns]"
   ]
  },
  {
   "cell_type": "code",
   "execution_count": 324,
   "metadata": {},
   "outputs": [
    {
     "data": {
      "text/html": [
       "<div><div id=eb0c89d1-d0fa-4d17-8a53-382abba2c257 style=\"display:none; background-color:#9D6CFF; color:white; width:200px; height:30px; padding-left:5px; border-radius:4px; flex-direction:row; justify-content:space-around; align-items:center;\" onmouseover=\"this.style.backgroundColor='#BA9BF8'\" onmouseout=\"this.style.backgroundColor='#9D6CFF'\" onclick=\"window.commands?.execute('create-mitosheet-from-dataframe-output');\">See Full Dataframe in Mito</div> <script> if (window.commands.hasCommand('create-mitosheet-from-dataframe-output')) document.getElementById('eb0c89d1-d0fa-4d17-8a53-382abba2c257').style.display = 'flex' </script> <table border=\"1\" class=\"dataframe\">\n",
       "  <thead>\n",
       "    <tr style=\"text-align: right;\">\n",
       "      <th></th>\n",
       "      <th>monatszahl</th>\n",
       "      <th>auspraegung</th>\n",
       "      <th>jahr</th>\n",
       "      <th>monat</th>\n",
       "      <th>wert</th>\n",
       "      <th>vorjahreswert</th>\n",
       "      <th>veraend_vormonat_prozent</th>\n",
       "      <th>veraend_vorjahresmonat_prozent</th>\n",
       "      <th>zwoelf_monate_mittelwert</th>\n",
       "    </tr>\n",
       "  </thead>\n",
       "  <tbody>\n",
       "    <tr>\n",
       "      <th>0</th>\n",
       "      <td>Alkoholunfälle</td>\n",
       "      <td>insgesamt</td>\n",
       "      <td>2000</td>\n",
       "      <td>200001</td>\n",
       "      <td>78.0</td>\n",
       "      <td>NaN</td>\n",
       "      <td>NaN</td>\n",
       "      <td>NaN</td>\n",
       "      <td>78.0</td>\n",
       "    </tr>\n",
       "    <tr>\n",
       "      <th>1</th>\n",
       "      <td>Alkoholunfälle</td>\n",
       "      <td>insgesamt</td>\n",
       "      <td>2000</td>\n",
       "      <td>200002</td>\n",
       "      <td>53.0</td>\n",
       "      <td>NaN</td>\n",
       "      <td>-32.05</td>\n",
       "      <td>NaN</td>\n",
       "      <td>66.0</td>\n",
       "    </tr>\n",
       "    <tr>\n",
       "      <th>2</th>\n",
       "      <td>Alkoholunfälle</td>\n",
       "      <td>insgesamt</td>\n",
       "      <td>2000</td>\n",
       "      <td>200003</td>\n",
       "      <td>73.0</td>\n",
       "      <td>NaN</td>\n",
       "      <td>37.74</td>\n",
       "      <td>NaN</td>\n",
       "      <td>68.0</td>\n",
       "    </tr>\n",
       "    <tr>\n",
       "      <th>3</th>\n",
       "      <td>Alkoholunfälle</td>\n",
       "      <td>insgesamt</td>\n",
       "      <td>2000</td>\n",
       "      <td>200004</td>\n",
       "      <td>78.0</td>\n",
       "      <td>NaN</td>\n",
       "      <td>6.85</td>\n",
       "      <td>NaN</td>\n",
       "      <td>71.0</td>\n",
       "    </tr>\n",
       "    <tr>\n",
       "      <th>4</th>\n",
       "      <td>Alkoholunfälle</td>\n",
       "      <td>insgesamt</td>\n",
       "      <td>2000</td>\n",
       "      <td>200005</td>\n",
       "      <td>96.0</td>\n",
       "      <td>NaN</td>\n",
       "      <td>23.08</td>\n",
       "      <td>NaN</td>\n",
       "      <td>76.0</td>\n",
       "    </tr>\n",
       "    <tr>\n",
       "      <th>...</th>\n",
       "      <td>...</td>\n",
       "      <td>...</td>\n",
       "      <td>...</td>\n",
       "      <td>...</td>\n",
       "      <td>...</td>\n",
       "      <td>...</td>\n",
       "      <td>...</td>\n",
       "      <td>...</td>\n",
       "      <td>...</td>\n",
       "    </tr>\n",
       "    <tr>\n",
       "      <th>247</th>\n",
       "      <td>Alkoholunfälle</td>\n",
       "      <td>insgesamt</td>\n",
       "      <td>2020</td>\n",
       "      <td>202008</td>\n",
       "      <td>46.0</td>\n",
       "      <td>31.0</td>\n",
       "      <td>-20.69</td>\n",
       "      <td>48.39</td>\n",
       "      <td>39.0</td>\n",
       "    </tr>\n",
       "    <tr>\n",
       "      <th>248</th>\n",
       "      <td>Alkoholunfälle</td>\n",
       "      <td>insgesamt</td>\n",
       "      <td>2020</td>\n",
       "      <td>202009</td>\n",
       "      <td>46.0</td>\n",
       "      <td>47.0</td>\n",
       "      <td>0.00</td>\n",
       "      <td>-2.13</td>\n",
       "      <td>39.0</td>\n",
       "    </tr>\n",
       "    <tr>\n",
       "      <th>249</th>\n",
       "      <td>Alkoholunfälle</td>\n",
       "      <td>insgesamt</td>\n",
       "      <td>2020</td>\n",
       "      <td>202010</td>\n",
       "      <td>34.0</td>\n",
       "      <td>45.0</td>\n",
       "      <td>-26.09</td>\n",
       "      <td>-24.44</td>\n",
       "      <td>38.0</td>\n",
       "    </tr>\n",
       "    <tr>\n",
       "      <th>250</th>\n",
       "      <td>Alkoholunfälle</td>\n",
       "      <td>insgesamt</td>\n",
       "      <td>2020</td>\n",
       "      <td>202011</td>\n",
       "      <td>23.0</td>\n",
       "      <td>29.0</td>\n",
       "      <td>-32.35</td>\n",
       "      <td>-20.69</td>\n",
       "      <td>38.0</td>\n",
       "    </tr>\n",
       "    <tr>\n",
       "      <th>251</th>\n",
       "      <td>Alkoholunfälle</td>\n",
       "      <td>insgesamt</td>\n",
       "      <td>2020</td>\n",
       "      <td>202012</td>\n",
       "      <td>13.0</td>\n",
       "      <td>35.0</td>\n",
       "      <td>-43.48</td>\n",
       "      <td>-62.86</td>\n",
       "      <td>36.0</td>\n",
       "    </tr>\n",
       "  </tbody>\n",
       "</table></div>"
      ],
      "text/plain": [
       "         monatszahl auspraegung  jahr   monat  wert  vorjahreswert  \\\n",
       "0    Alkoholunfälle   insgesamt  2000  200001  78.0            NaN   \n",
       "1    Alkoholunfälle   insgesamt  2000  200002  53.0            NaN   \n",
       "2    Alkoholunfälle   insgesamt  2000  200003  73.0            NaN   \n",
       "3    Alkoholunfälle   insgesamt  2000  200004  78.0            NaN   \n",
       "4    Alkoholunfälle   insgesamt  2000  200005  96.0            NaN   \n",
       "..              ...         ...   ...     ...   ...            ...   \n",
       "247  Alkoholunfälle   insgesamt  2020  202008  46.0           31.0   \n",
       "248  Alkoholunfälle   insgesamt  2020  202009  46.0           47.0   \n",
       "249  Alkoholunfälle   insgesamt  2020  202010  34.0           45.0   \n",
       "250  Alkoholunfälle   insgesamt  2020  202011  23.0           29.0   \n",
       "251  Alkoholunfälle   insgesamt  2020  202012  13.0           35.0   \n",
       "\n",
       "     veraend_vormonat_prozent  veraend_vorjahresmonat_prozent  \\\n",
       "0                         NaN                             NaN   \n",
       "1                      -32.05                             NaN   \n",
       "2                       37.74                             NaN   \n",
       "3                        6.85                             NaN   \n",
       "4                       23.08                             NaN   \n",
       "..                        ...                             ...   \n",
       "247                    -20.69                           48.39   \n",
       "248                      0.00                           -2.13   \n",
       "249                    -26.09                          -24.44   \n",
       "250                    -32.35                          -20.69   \n",
       "251                    -43.48                          -62.86   \n",
       "\n",
       "     zwoelf_monate_mittelwert  \n",
       "0                        78.0  \n",
       "1                        66.0  \n",
       "2                        68.0  \n",
       "3                        71.0  \n",
       "4                        76.0  \n",
       "..                        ...  \n",
       "247                      39.0  \n",
       "248                      39.0  \n",
       "249                      38.0  \n",
       "250                      38.0  \n",
       "251                      36.0  \n",
       "\n",
       "[252 rows x 9 columns]"
      ]
     },
     "execution_count": 324,
     "metadata": {},
     "output_type": "execute_result"
    }
   ],
   "source": [
    "# we filter for the category and type as requested by task\n",
    "# we exclude 2021 data, since we are going to forecast for month 01/2021\n",
    "# in the data there also exist yearly sums, we will exclude these\n",
    "\n",
    "train_df = eda_df[\n",
    "    (eda_df.monatszahl == \"Alkoholunfälle\") &\n",
    "    (eda_df.auspraegung == \"insgesamt\") &\n",
    "    (eda_df.jahr != 2021) &\n",
    "    (eda_df.monat != \"Summe\")\n",
    "].copy().sort_values(\n",
    "    by=\"monat\"\n",
    ").reset_index(drop=True)\n",
    "\n",
    "train_df"
   ]
  },
  {
   "cell_type": "markdown",
   "metadata": {},
   "source": [
    "### visualizing"
   ]
  },
  {
   "cell_type": "code",
   "execution_count": 325,
   "metadata": {},
   "outputs": [
    {
     "data": {
      "image/png": "[encoded data removed]",
      "text/plain": [
       "<Figure size 1152x432 with 1 Axes>"
      ]
     },
     "metadata": {
      "needs_background": "light"
     },
     "output_type": "display_data"
    }
   ],
   "source": [
    "fig, ax = plt.subplots(1, 1, figsize=(16,6))\n",
    "plt.plot(train_df.wert)\n",
    "plt.show()"
   ]
  },
  {
   "cell_type": "code",
   "execution_count": 326,
   "metadata": {},
   "outputs": [],
   "source": [
    "# the predictor field might be \"wert\"\n",
    "\n",
    "model = ExponentialSmoothing(\n",
    "    train_df.wert,\n",
    "    seasonal_periods=12,\n",
    "    trend=\"add\",\n",
    "    seasonal=\"mul\"\n",
    ").fit()\n",
    "\n",
    "# model.summary()"
   ]
  },
  {
   "cell_type": "code",
   "execution_count": 327,
   "metadata": {},
   "outputs": [
    {
     "data": {
      "text/plain": [
       "array([24.98876636, 25.56255207, 29.60561374, 32.21079599, 40.06717688,\n",
       "       40.01902985, 48.37663855, 39.07721547, 46.00321687, 37.30134906,\n",
       "       31.5459363 , 32.58244276])"
      ]
     },
     "execution_count": 327,
     "metadata": {},
     "output_type": "execute_result"
    }
   ],
   "source": [
    "my_result = model.forecast(steps=12).values\n",
    "my_result"
   ]
  },
  {
   "cell_type": "markdown",
   "metadata": {},
   "source": [
    "**Input**\n",
    "\n",
    "```json\n",
    "{\n",
    "    \"year\": 2021,\n",
    "    \"month\": 10\n",
    "}\n",
    "```\n",
    "\n",
    "```python\n",
    "ind = input_json[\"month\"] # == 10\n",
    "return my_result[ind-1]\n",
    "```"
   ]
  },
  {
   "cell_type": "code",
   "execution_count": 328,
   "metadata": {},
   "outputs": [
    {
     "data": {
      "text/plain": [
       "37.30134905571655"
      ]
     },
     "execution_count": 328,
     "metadata": {},
     "output_type": "execute_result"
    }
   ],
   "source": [
    "my_result[9]"
   ]
  },
  {
   "cell_type": "markdown",
   "metadata": {},
   "source": [
    "### deployment\n",
    "[How to Deploy Machine Learning Models using Flask (with Code!)](https://www.analyticsvidhya.com/blog/2020/04/how-to-deploy-machine-learning-model-flask/)\n",
    "\n",
    "#### Note:\n",
    "- You have been asked specifically to support the POST method\n",
    "```python\n",
    "@app.route('/', methods=['POST'])\n",
    "```"
   ]
  },
  {
   "cell_type": "markdown",
   "metadata": {},
   "source": [
    "### My version of pmdarima \n",
    "```bash\n",
    "Name: pmdarima\n",
    "Version: 1.8.0\n",
    "Summary: Python's forecast::auto.arima equivalent\n",
    "Home-page: http://alkaline-ml.com/pmdarima\n",
    "Author: \n",
    "Author-email: \n",
    "License: MIT\n",
    "Location: /Users/valiant/forge/.env/lib/python3.8/site-packages\n",
    "Requires: Cython, joblib, numpy, pandas, scikit-learn, scipy, setuptools, statsmodels, urllib3\n",
    "```"
   ]
  },
  {
   "cell_type": "code",
   "execution_count": 329,
   "metadata": {},
   "outputs": [
    {
     "name": "stdout",
     "output_type": "stream",
     "text": [
      "Requirement already satisfied: pmdarima==1.8.0 in c:\\users\\akinl\\anaconda3\\lib\\site-packages (1.8.0)\n",
      "Requirement already satisfied: urllib3 in c:\\users\\akinl\\anaconda3\\lib\\site-packages (from pmdarima==1.8.0) (1.26.4)\n",
      "Requirement already satisfied: scikit-learn>=0.22 in c:\\users\\akinl\\anaconda3\\lib\\site-packages (from pmdarima==1.8.0) (0.24.1)\n",
      "Requirement already satisfied: statsmodels!=0.12.0,>=0.11 in c:\\users\\akinl\\anaconda3\\lib\\site-packages (from pmdarima==1.8.0) (0.12.2)\n",
      "Requirement already satisfied: numpy>=1.17.3 in c:\\users\\akinl\\anaconda3\\lib\\site-packages (from pmdarima==1.8.0) (1.20.1)\n",
      "Requirement already satisfied: scipy>=1.3.2 in c:\\users\\akinl\\anaconda3\\lib\\site-packages (from pmdarima==1.8.0) (1.6.2)\n",
      "Requirement already satisfied: setuptools!=50.0.0,>=38.6.0 in c:\\users\\akinl\\anaconda3\\lib\\site-packages (from pmdarima==1.8.0) (52.0.0.post20210125)\n",
      "Requirement already satisfied: Cython<0.29.18,>=0.29 in c:\\users\\akinl\\anaconda3\\lib\\site-packages (from pmdarima==1.8.0) (0.29.17)\n",
      "Requirement already satisfied: pandas>=0.19 in c:\\users\\akinl\\anaconda3\\lib\\site-packages (from pmdarima==1.8.0) (1.2.4)\n",
      "Requirement already satisfied: joblib>=0.11 in c:\\users\\akinl\\anaconda3\\lib\\site-packages (from pmdarima==1.8.0) (1.0.1)\n",
      "Requirement already satisfied: pytz>=2017.3 in c:\\users\\akinl\\anaconda3\\lib\\site-packages (from pandas>=0.19->pmdarima==1.8.0) (2021.1)\n",
      "Requirement already satisfied: python-dateutil>=2.7.3 in c:\\users\\akinl\\anaconda3\\lib\\site-packages (from pandas>=0.19->pmdarima==1.8.0) (2.8.1)\n",
      "Requirement already satisfied: six>=1.5 in c:\\users\\akinl\\anaconda3\\lib\\site-packages (from python-dateutil>=2.7.3->pandas>=0.19->pmdarima==1.8.0) (1.15.0)\n",
      "Requirement already satisfied: threadpoolctl>=2.0.0 in c:\\users\\akinl\\anaconda3\\lib\\site-packages (from scikit-learn>=0.22->pmdarima==1.8.0) (2.1.0)\n",
      "Requirement already satisfied: patsy>=0.5 in c:\\users\\akinl\\anaconda3\\lib\\site-packages (from statsmodels!=0.12.0,>=0.11->pmdarima==1.8.0) (0.5.1)\n"
     ]
    }
   ],
   "source": [
    "!pip install pmdarima==1.8.0"
   ]
  },
  {
   "cell_type": "code",
   "execution_count": 330,
   "metadata": {},
   "outputs": [],
   "source": [
    "from statsmodels.tsa.arima_model import ARIMA"
   ]
  },
  {
   "cell_type": "code",
   "execution_count": 4,
   "metadata": {},
   "outputs": [
    {
     "name": "stdout",
     "output_type": "stream",
     "text": [
      "README.md         explorer_1.ipynb  shampoo-sales.csv\r\n",
      "explorer.ipynb    fb_prophet.ipynb  some_data.csv\r\n"
     ]
    }
   ],
   "source": [
    "!ls"
   ]
  },
  {
   "cell_type": "code",
   "execution_count": 5,
   "metadata": {},
   "outputs": [],
   "source": [
    "eda_df2 = pd.read_csv(\n",
    "    \"some_data.csv\"\n",
    ")\n",
    "\n",
    "eda_df2.columns = [each.lower() for each in eda_df2.columns]"
   ]
  },
  {
   "cell_type": "code",
   "execution_count": 6,
   "metadata": {},
   "outputs": [
    {
     "data": {
      "text/html": [
       "<div>\n",
       "<style scoped>\n",
       "    .dataframe tbody tr th:only-of-type {\n",
       "        vertical-align: middle;\n",
       "    }\n",
       "\n",
       "    .dataframe tbody tr th {\n",
       "        vertical-align: top;\n",
       "    }\n",
       "\n",
       "    .dataframe thead th {\n",
       "        text-align: right;\n",
       "    }\n",
       "</style>\n",
       "<table border=\"1\" class=\"dataframe\">\n",
       "  <thead>\n",
       "    <tr style=\"text-align: right;\">\n",
       "      <th></th>\n",
       "      <th>monatszahl</th>\n",
       "      <th>auspraegung</th>\n",
       "      <th>jahr</th>\n",
       "      <th>monat</th>\n",
       "      <th>wert</th>\n",
       "      <th>vorjahreswert</th>\n",
       "      <th>veraend_vormonat_prozent</th>\n",
       "      <th>veraend_vorjahresmonat_prozent</th>\n",
       "      <th>zwoelf_monate_mittelwert</th>\n",
       "    </tr>\n",
       "  </thead>\n",
       "  <tbody>\n",
       "    <tr>\n",
       "      <th>0</th>\n",
       "      <td>Alkoholunfälle</td>\n",
       "      <td>insgesamt</td>\n",
       "      <td>2021</td>\n",
       "      <td>202101</td>\n",
       "      <td>NaN</td>\n",
       "      <td>28.0</td>\n",
       "      <td>NaN</td>\n",
       "      <td>NaN</td>\n",
       "      <td>NaN</td>\n",
       "    </tr>\n",
       "    <tr>\n",
       "      <th>1</th>\n",
       "      <td>Alkoholunfälle</td>\n",
       "      <td>insgesamt</td>\n",
       "      <td>2021</td>\n",
       "      <td>202102</td>\n",
       "      <td>NaN</td>\n",
       "      <td>40.0</td>\n",
       "      <td>NaN</td>\n",
       "      <td>NaN</td>\n",
       "      <td>NaN</td>\n",
       "    </tr>\n",
       "    <tr>\n",
       "      <th>2</th>\n",
       "      <td>Alkoholunfälle</td>\n",
       "      <td>insgesamt</td>\n",
       "      <td>2021</td>\n",
       "      <td>202103</td>\n",
       "      <td>NaN</td>\n",
       "      <td>27.0</td>\n",
       "      <td>NaN</td>\n",
       "      <td>NaN</td>\n",
       "      <td>NaN</td>\n",
       "    </tr>\n",
       "    <tr>\n",
       "      <th>3</th>\n",
       "      <td>Alkoholunfälle</td>\n",
       "      <td>insgesamt</td>\n",
       "      <td>2021</td>\n",
       "      <td>202104</td>\n",
       "      <td>NaN</td>\n",
       "      <td>26.0</td>\n",
       "      <td>NaN</td>\n",
       "      <td>NaN</td>\n",
       "      <td>NaN</td>\n",
       "    </tr>\n",
       "    <tr>\n",
       "      <th>4</th>\n",
       "      <td>Alkoholunfälle</td>\n",
       "      <td>insgesamt</td>\n",
       "      <td>2021</td>\n",
       "      <td>202105</td>\n",
       "      <td>NaN</td>\n",
       "      <td>40.0</td>\n",
       "      <td>NaN</td>\n",
       "      <td>NaN</td>\n",
       "      <td>NaN</td>\n",
       "    </tr>\n",
       "    <tr>\n",
       "      <th>...</th>\n",
       "      <td>...</td>\n",
       "      <td>...</td>\n",
       "      <td>...</td>\n",
       "      <td>...</td>\n",
       "      <td>...</td>\n",
       "      <td>...</td>\n",
       "      <td>...</td>\n",
       "      <td>...</td>\n",
       "      <td>...</td>\n",
       "    </tr>\n",
       "    <tr>\n",
       "      <th>1990</th>\n",
       "      <td>Verkehrsunfälle</td>\n",
       "      <td>Verletzte und Getötete</td>\n",
       "      <td>2000</td>\n",
       "      <td>200008</td>\n",
       "      <td>647.0</td>\n",
       "      <td>NaN</td>\n",
       "      <td>-13.04</td>\n",
       "      <td>NaN</td>\n",
       "      <td>584.0</td>\n",
       "    </tr>\n",
       "    <tr>\n",
       "      <th>1991</th>\n",
       "      <td>Verkehrsunfälle</td>\n",
       "      <td>Verletzte und Getötete</td>\n",
       "      <td>2000</td>\n",
       "      <td>200009</td>\n",
       "      <td>675.0</td>\n",
       "      <td>NaN</td>\n",
       "      <td>4.33</td>\n",
       "      <td>NaN</td>\n",
       "      <td>594.0</td>\n",
       "    </tr>\n",
       "    <tr>\n",
       "      <th>1992</th>\n",
       "      <td>Verkehrsunfälle</td>\n",
       "      <td>Verletzte und Getötete</td>\n",
       "      <td>2000</td>\n",
       "      <td>200010</td>\n",
       "      <td>615.0</td>\n",
       "      <td>NaN</td>\n",
       "      <td>-8.89</td>\n",
       "      <td>NaN</td>\n",
       "      <td>596.0</td>\n",
       "    </tr>\n",
       "    <tr>\n",
       "      <th>1993</th>\n",
       "      <td>Verkehrsunfälle</td>\n",
       "      <td>Verletzte und Getötete</td>\n",
       "      <td>2000</td>\n",
       "      <td>200011</td>\n",
       "      <td>578.0</td>\n",
       "      <td>NaN</td>\n",
       "      <td>-6.02</td>\n",
       "      <td>NaN</td>\n",
       "      <td>594.0</td>\n",
       "    </tr>\n",
       "    <tr>\n",
       "      <th>1994</th>\n",
       "      <td>Verkehrsunfälle</td>\n",
       "      <td>Verletzte und Getötete</td>\n",
       "      <td>2000</td>\n",
       "      <td>200012</td>\n",
       "      <td>515.0</td>\n",
       "      <td>NaN</td>\n",
       "      <td>-10.90</td>\n",
       "      <td>NaN</td>\n",
       "      <td>588.0</td>\n",
       "    </tr>\n",
       "  </tbody>\n",
       "</table>\n",
       "<p>1995 rows × 9 columns</p>\n",
       "</div>"
      ],
      "text/plain": [
       "           monatszahl             auspraegung  jahr   monat   wert  \\\n",
       "0      Alkoholunfälle               insgesamt  2021  202101    NaN   \n",
       "1      Alkoholunfälle               insgesamt  2021  202102    NaN   \n",
       "2      Alkoholunfälle               insgesamt  2021  202103    NaN   \n",
       "3      Alkoholunfälle               insgesamt  2021  202104    NaN   \n",
       "4      Alkoholunfälle               insgesamt  2021  202105    NaN   \n",
       "...               ...                     ...   ...     ...    ...   \n",
       "1990  Verkehrsunfälle  Verletzte und Getötete  2000  200008  647.0   \n",
       "1991  Verkehrsunfälle  Verletzte und Getötete  2000  200009  675.0   \n",
       "1992  Verkehrsunfälle  Verletzte und Getötete  2000  200010  615.0   \n",
       "1993  Verkehrsunfälle  Verletzte und Getötete  2000  200011  578.0   \n",
       "1994  Verkehrsunfälle  Verletzte und Getötete  2000  200012  515.0   \n",
       "\n",
       "      vorjahreswert  veraend_vormonat_prozent  veraend_vorjahresmonat_prozent  \\\n",
       "0              28.0                       NaN                             NaN   \n",
       "1              40.0                       NaN                             NaN   \n",
       "2              27.0                       NaN                             NaN   \n",
       "3              26.0                       NaN                             NaN   \n",
       "4              40.0                       NaN                             NaN   \n",
       "...             ...                       ...                             ...   \n",
       "1990            NaN                    -13.04                             NaN   \n",
       "1991            NaN                      4.33                             NaN   \n",
       "1992            NaN                     -8.89                             NaN   \n",
       "1993            NaN                     -6.02                             NaN   \n",
       "1994            NaN                    -10.90                             NaN   \n",
       "\n",
       "      zwoelf_monate_mittelwert  \n",
       "0                          NaN  \n",
       "1                          NaN  \n",
       "2                          NaN  \n",
       "3                          NaN  \n",
       "4                          NaN  \n",
       "...                        ...  \n",
       "1990                     584.0  \n",
       "1991                     594.0  \n",
       "1992                     596.0  \n",
       "1993                     594.0  \n",
       "1994                     588.0  \n",
       "\n",
       "[1995 rows x 9 columns]"
      ]
     },
     "execution_count": 6,
     "metadata": {},
     "output_type": "execute_result"
    }
   ],
   "source": [
    "eda_df2"
   ]
  },
  {
   "cell_type": "code",
   "execution_count": 8,
   "metadata": {},
   "outputs": [
    {
     "data": {
      "text/html": [
       "<div>\n",
       "<style scoped>\n",
       "    .dataframe tbody tr th:only-of-type {\n",
       "        vertical-align: middle;\n",
       "    }\n",
       "\n",
       "    .dataframe tbody tr th {\n",
       "        vertical-align: top;\n",
       "    }\n",
       "\n",
       "    .dataframe thead th {\n",
       "        text-align: right;\n",
       "    }\n",
       "</style>\n",
       "<table border=\"1\" class=\"dataframe\">\n",
       "  <thead>\n",
       "    <tr style=\"text-align: right;\">\n",
       "      <th></th>\n",
       "      <th>monatszahl</th>\n",
       "      <th>auspraegung</th>\n",
       "      <th>jahr</th>\n",
       "      <th>monat</th>\n",
       "      <th>wert</th>\n",
       "      <th>vorjahreswert</th>\n",
       "      <th>veraend_vormonat_prozent</th>\n",
       "      <th>veraend_vorjahresmonat_prozent</th>\n",
       "      <th>zwoelf_monate_mittelwert</th>\n",
       "    </tr>\n",
       "  </thead>\n",
       "  <tbody>\n",
       "    <tr>\n",
       "      <th>0</th>\n",
       "      <td>Alkoholunfälle</td>\n",
       "      <td>insgesamt</td>\n",
       "      <td>2000</td>\n",
       "      <td>200001</td>\n",
       "      <td>78.0</td>\n",
       "      <td>NaN</td>\n",
       "      <td>NaN</td>\n",
       "      <td>NaN</td>\n",
       "      <td>78.0</td>\n",
       "    </tr>\n",
       "    <tr>\n",
       "      <th>1</th>\n",
       "      <td>Alkoholunfälle</td>\n",
       "      <td>insgesamt</td>\n",
       "      <td>2000</td>\n",
       "      <td>200002</td>\n",
       "      <td>53.0</td>\n",
       "      <td>NaN</td>\n",
       "      <td>-32.05</td>\n",
       "      <td>NaN</td>\n",
       "      <td>66.0</td>\n",
       "    </tr>\n",
       "    <tr>\n",
       "      <th>2</th>\n",
       "      <td>Alkoholunfälle</td>\n",
       "      <td>insgesamt</td>\n",
       "      <td>2000</td>\n",
       "      <td>200003</td>\n",
       "      <td>73.0</td>\n",
       "      <td>NaN</td>\n",
       "      <td>37.74</td>\n",
       "      <td>NaN</td>\n",
       "      <td>68.0</td>\n",
       "    </tr>\n",
       "    <tr>\n",
       "      <th>3</th>\n",
       "      <td>Alkoholunfälle</td>\n",
       "      <td>insgesamt</td>\n",
       "      <td>2000</td>\n",
       "      <td>200004</td>\n",
       "      <td>78.0</td>\n",
       "      <td>NaN</td>\n",
       "      <td>6.85</td>\n",
       "      <td>NaN</td>\n",
       "      <td>71.0</td>\n",
       "    </tr>\n",
       "    <tr>\n",
       "      <th>4</th>\n",
       "      <td>Alkoholunfälle</td>\n",
       "      <td>insgesamt</td>\n",
       "      <td>2000</td>\n",
       "      <td>200005</td>\n",
       "      <td>96.0</td>\n",
       "      <td>NaN</td>\n",
       "      <td>23.08</td>\n",
       "      <td>NaN</td>\n",
       "      <td>76.0</td>\n",
       "    </tr>\n",
       "    <tr>\n",
       "      <th>...</th>\n",
       "      <td>...</td>\n",
       "      <td>...</td>\n",
       "      <td>...</td>\n",
       "      <td>...</td>\n",
       "      <td>...</td>\n",
       "      <td>...</td>\n",
       "      <td>...</td>\n",
       "      <td>...</td>\n",
       "      <td>...</td>\n",
       "    </tr>\n",
       "    <tr>\n",
       "      <th>247</th>\n",
       "      <td>Alkoholunfälle</td>\n",
       "      <td>insgesamt</td>\n",
       "      <td>2020</td>\n",
       "      <td>202008</td>\n",
       "      <td>46.0</td>\n",
       "      <td>31.0</td>\n",
       "      <td>-20.69</td>\n",
       "      <td>48.39</td>\n",
       "      <td>39.0</td>\n",
       "    </tr>\n",
       "    <tr>\n",
       "      <th>248</th>\n",
       "      <td>Alkoholunfälle</td>\n",
       "      <td>insgesamt</td>\n",
       "      <td>2020</td>\n",
       "      <td>202009</td>\n",
       "      <td>46.0</td>\n",
       "      <td>47.0</td>\n",
       "      <td>0.00</td>\n",
       "      <td>-2.13</td>\n",
       "      <td>39.0</td>\n",
       "    </tr>\n",
       "    <tr>\n",
       "      <th>249</th>\n",
       "      <td>Alkoholunfälle</td>\n",
       "      <td>insgesamt</td>\n",
       "      <td>2020</td>\n",
       "      <td>202010</td>\n",
       "      <td>34.0</td>\n",
       "      <td>45.0</td>\n",
       "      <td>-26.09</td>\n",
       "      <td>-24.44</td>\n",
       "      <td>38.0</td>\n",
       "    </tr>\n",
       "    <tr>\n",
       "      <th>250</th>\n",
       "      <td>Alkoholunfälle</td>\n",
       "      <td>insgesamt</td>\n",
       "      <td>2020</td>\n",
       "      <td>202011</td>\n",
       "      <td>23.0</td>\n",
       "      <td>29.0</td>\n",
       "      <td>-32.35</td>\n",
       "      <td>-20.69</td>\n",
       "      <td>38.0</td>\n",
       "    </tr>\n",
       "    <tr>\n",
       "      <th>251</th>\n",
       "      <td>Alkoholunfälle</td>\n",
       "      <td>insgesamt</td>\n",
       "      <td>2020</td>\n",
       "      <td>202012</td>\n",
       "      <td>13.0</td>\n",
       "      <td>35.0</td>\n",
       "      <td>-43.48</td>\n",
       "      <td>-62.86</td>\n",
       "      <td>36.0</td>\n",
       "    </tr>\n",
       "  </tbody>\n",
       "</table>\n",
       "<p>252 rows × 9 columns</p>\n",
       "</div>"
      ],
      "text/plain": [
       "         monatszahl auspraegung  jahr   monat  wert  vorjahreswert  \\\n",
       "0    Alkoholunfälle   insgesamt  2000  200001  78.0            NaN   \n",
       "1    Alkoholunfälle   insgesamt  2000  200002  53.0            NaN   \n",
       "2    Alkoholunfälle   insgesamt  2000  200003  73.0            NaN   \n",
       "3    Alkoholunfälle   insgesamt  2000  200004  78.0            NaN   \n",
       "4    Alkoholunfälle   insgesamt  2000  200005  96.0            NaN   \n",
       "..              ...         ...   ...     ...   ...            ...   \n",
       "247  Alkoholunfälle   insgesamt  2020  202008  46.0           31.0   \n",
       "248  Alkoholunfälle   insgesamt  2020  202009  46.0           47.0   \n",
       "249  Alkoholunfälle   insgesamt  2020  202010  34.0           45.0   \n",
       "250  Alkoholunfälle   insgesamt  2020  202011  23.0           29.0   \n",
       "251  Alkoholunfälle   insgesamt  2020  202012  13.0           35.0   \n",
       "\n",
       "     veraend_vormonat_prozent  veraend_vorjahresmonat_prozent  \\\n",
       "0                         NaN                             NaN   \n",
       "1                      -32.05                             NaN   \n",
       "2                       37.74                             NaN   \n",
       "3                        6.85                             NaN   \n",
       "4                       23.08                             NaN   \n",
       "..                        ...                             ...   \n",
       "247                    -20.69                           48.39   \n",
       "248                      0.00                           -2.13   \n",
       "249                    -26.09                          -24.44   \n",
       "250                    -32.35                          -20.69   \n",
       "251                    -43.48                          -62.86   \n",
       "\n",
       "     zwoelf_monate_mittelwert  \n",
       "0                        78.0  \n",
       "1                        66.0  \n",
       "2                        68.0  \n",
       "3                        71.0  \n",
       "4                        76.0  \n",
       "..                        ...  \n",
       "247                      39.0  \n",
       "248                      39.0  \n",
       "249                      38.0  \n",
       "250                      38.0  \n",
       "251                      36.0  \n",
       "\n",
       "[252 rows x 9 columns]"
      ]
     },
     "execution_count": 8,
     "metadata": {},
     "output_type": "execute_result"
    }
   ],
   "source": [
    "# we filter for the category and type as requested by task\n",
    "# we exclude 2021 data, since we are going to forecast for month 01/2021\n",
    "# in the data there also exist yearly sums, we will exclude these\n",
    "\n",
    "train_df2 = eda_df2[\n",
    "    (eda_df2.monatszahl == \"Alkoholunfälle\") &\n",
    "    (eda_df2.auspraegung == \"insgesamt\") &\n",
    "    (eda_df2.jahr != 2021) &\n",
    "    (eda_df2.monat != \"Summe\")\n",
    "].copy().sort_values(\n",
    "    by=\"monat\"\n",
    ").reset_index(drop=True)\n",
    "\n",
    "train_df2"
   ]
  },
  {
   "cell_type": "code",
   "execution_count": 21,
   "metadata": {},
   "outputs": [],
   "source": [
    "import statsmodels.api as sm"
   ]
  },
  {
   "cell_type": "markdown",
   "metadata": {},
   "source": [
    "# visualizing"
   ]
  },
  {
   "cell_type": "code",
   "execution_count": 9,
   "metadata": {},
   "outputs": [],
   "source": [
    "# Convert Month into Datetime\n",
    "#train_df2['monat']=pd.to_datetime(train_df2['monat'])"
   ]
  },
  {
   "cell_type": "code",
   "execution_count": 10,
   "metadata": {},
   "outputs": [
    {
     "data": {
      "image/png": "[encoded data removed]",
      "text/plain": [
       "<Figure size 1152x432 with 1 Axes>"
      ]
     },
     "metadata": {
      "needs_background": "light"
     },
     "output_type": "display_data"
    }
   ],
   "source": [
    "fig, ax = plt.subplots(1, 1, figsize=(16,6))\n",
    "plt.plot(train_df2.wert)\n",
    "plt.show()"
   ]
  },
  {
   "cell_type": "code",
   "execution_count": 11,
   "metadata": {},
   "outputs": [],
   "source": [
    "import warnings\n",
    "warnings.filterwarnings(\"ignore\")"
   ]
  },
  {
   "cell_type": "code",
   "execution_count": 12,
   "metadata": {},
   "outputs": [],
   "source": [
    "from statsmodels.tsa.stattools import adfuller\n",
    "def ad_test(dataset):\n",
    "     dftest = adfuller(dataset, autolag = 'AIC')\n",
    "     print(\"1. ADF : \",dftest[0])\n",
    "     print(\"2. P-Value : \", dftest[1])\n",
    "     print(\"3. Num Of Lags : \", dftest[2])\n",
    "     print(\"4. Num Of Observations Used For ADF Regression:\",      dftest[3])\n",
    "     print(\"5. Critical Values :\")\n",
    "     for key, val in dftest[4].items():\n",
    "         print(\"\\t\",key, \": \", val)"
   ]
  },
  {
   "cell_type": "code",
   "execution_count": 13,
   "metadata": {},
   "outputs": [
    {
     "name": "stdout",
     "output_type": "stream",
     "text": [
      "1. ADF :  -2.7784740406264814\n",
      "2. P-Value :  0.06141499421706947\n",
      "3. Num Of Lags :  13\n",
      "4. Num Of Observations Used For ADF Regression: 238\n",
      "5. Critical Values :\n",
      "\t 1% :  -3.458128284586202\n",
      "\t 5% :  -2.873761835239286\n",
      "\t 10% :  -2.5732834559706235\n"
     ]
    }
   ],
   "source": [
    "ad_test(train_df2.wert)\n",
    "    #adf_test(df['AvgTemp'])"
   ]
  },
  {
   "cell_type": "code",
   "execution_count": 14,
   "metadata": {},
   "outputs": [],
   "source": [
    "train_df2['Seasonal First Difference']=train_df2['wert']-train_df2['wert'].shift(12)"
   ]
  },
  {
   "cell_type": "code",
   "execution_count": 15,
   "metadata": {},
   "outputs": [
    {
     "data": {
      "text/html": [
       "<div>\n",
       "<style scoped>\n",
       "    .dataframe tbody tr th:only-of-type {\n",
       "        vertical-align: middle;\n",
       "    }\n",
       "\n",
       "    .dataframe tbody tr th {\n",
       "        vertical-align: top;\n",
       "    }\n",
       "\n",
       "    .dataframe thead th {\n",
       "        text-align: right;\n",
       "    }\n",
       "</style>\n",
       "<table border=\"1\" class=\"dataframe\">\n",
       "  <thead>\n",
       "    <tr style=\"text-align: right;\">\n",
       "      <th></th>\n",
       "      <th>monatszahl</th>\n",
       "      <th>auspraegung</th>\n",
       "      <th>jahr</th>\n",
       "      <th>monat</th>\n",
       "      <th>wert</th>\n",
       "      <th>vorjahreswert</th>\n",
       "      <th>veraend_vormonat_prozent</th>\n",
       "      <th>veraend_vorjahresmonat_prozent</th>\n",
       "      <th>zwoelf_monate_mittelwert</th>\n",
       "      <th>Seasonal First Difference</th>\n",
       "    </tr>\n",
       "  </thead>\n",
       "  <tbody>\n",
       "    <tr>\n",
       "      <th>0</th>\n",
       "      <td>Alkoholunfälle</td>\n",
       "      <td>insgesamt</td>\n",
       "      <td>2000</td>\n",
       "      <td>200001</td>\n",
       "      <td>78.0</td>\n",
       "      <td>NaN</td>\n",
       "      <td>NaN</td>\n",
       "      <td>NaN</td>\n",
       "      <td>78.0</td>\n",
       "      <td>NaN</td>\n",
       "    </tr>\n",
       "    <tr>\n",
       "      <th>1</th>\n",
       "      <td>Alkoholunfälle</td>\n",
       "      <td>insgesamt</td>\n",
       "      <td>2000</td>\n",
       "      <td>200002</td>\n",
       "      <td>53.0</td>\n",
       "      <td>NaN</td>\n",
       "      <td>-32.05</td>\n",
       "      <td>NaN</td>\n",
       "      <td>66.0</td>\n",
       "      <td>NaN</td>\n",
       "    </tr>\n",
       "    <tr>\n",
       "      <th>2</th>\n",
       "      <td>Alkoholunfälle</td>\n",
       "      <td>insgesamt</td>\n",
       "      <td>2000</td>\n",
       "      <td>200003</td>\n",
       "      <td>73.0</td>\n",
       "      <td>NaN</td>\n",
       "      <td>37.74</td>\n",
       "      <td>NaN</td>\n",
       "      <td>68.0</td>\n",
       "      <td>NaN</td>\n",
       "    </tr>\n",
       "    <tr>\n",
       "      <th>3</th>\n",
       "      <td>Alkoholunfälle</td>\n",
       "      <td>insgesamt</td>\n",
       "      <td>2000</td>\n",
       "      <td>200004</td>\n",
       "      <td>78.0</td>\n",
       "      <td>NaN</td>\n",
       "      <td>6.85</td>\n",
       "      <td>NaN</td>\n",
       "      <td>71.0</td>\n",
       "      <td>NaN</td>\n",
       "    </tr>\n",
       "    <tr>\n",
       "      <th>4</th>\n",
       "      <td>Alkoholunfälle</td>\n",
       "      <td>insgesamt</td>\n",
       "      <td>2000</td>\n",
       "      <td>200005</td>\n",
       "      <td>96.0</td>\n",
       "      <td>NaN</td>\n",
       "      <td>23.08</td>\n",
       "      <td>NaN</td>\n",
       "      <td>76.0</td>\n",
       "      <td>NaN</td>\n",
       "    </tr>\n",
       "    <tr>\n",
       "      <th>5</th>\n",
       "      <td>Alkoholunfälle</td>\n",
       "      <td>insgesamt</td>\n",
       "      <td>2000</td>\n",
       "      <td>200006</td>\n",
       "      <td>57.0</td>\n",
       "      <td>NaN</td>\n",
       "      <td>-40.63</td>\n",
       "      <td>NaN</td>\n",
       "      <td>73.0</td>\n",
       "      <td>NaN</td>\n",
       "    </tr>\n",
       "    <tr>\n",
       "      <th>6</th>\n",
       "      <td>Alkoholunfälle</td>\n",
       "      <td>insgesamt</td>\n",
       "      <td>2000</td>\n",
       "      <td>200007</td>\n",
       "      <td>99.0</td>\n",
       "      <td>NaN</td>\n",
       "      <td>73.68</td>\n",
       "      <td>NaN</td>\n",
       "      <td>76.0</td>\n",
       "      <td>NaN</td>\n",
       "    </tr>\n",
       "    <tr>\n",
       "      <th>7</th>\n",
       "      <td>Alkoholunfälle</td>\n",
       "      <td>insgesamt</td>\n",
       "      <td>2000</td>\n",
       "      <td>200008</td>\n",
       "      <td>77.0</td>\n",
       "      <td>NaN</td>\n",
       "      <td>-22.22</td>\n",
       "      <td>NaN</td>\n",
       "      <td>76.0</td>\n",
       "      <td>NaN</td>\n",
       "    </tr>\n",
       "    <tr>\n",
       "      <th>8</th>\n",
       "      <td>Alkoholunfälle</td>\n",
       "      <td>insgesamt</td>\n",
       "      <td>2000</td>\n",
       "      <td>200009</td>\n",
       "      <td>84.0</td>\n",
       "      <td>NaN</td>\n",
       "      <td>9.09</td>\n",
       "      <td>NaN</td>\n",
       "      <td>77.0</td>\n",
       "      <td>NaN</td>\n",
       "    </tr>\n",
       "    <tr>\n",
       "      <th>9</th>\n",
       "      <td>Alkoholunfälle</td>\n",
       "      <td>insgesamt</td>\n",
       "      <td>2000</td>\n",
       "      <td>200010</td>\n",
       "      <td>83.0</td>\n",
       "      <td>NaN</td>\n",
       "      <td>-1.19</td>\n",
       "      <td>NaN</td>\n",
       "      <td>78.0</td>\n",
       "      <td>NaN</td>\n",
       "    </tr>\n",
       "    <tr>\n",
       "      <th>10</th>\n",
       "      <td>Alkoholunfälle</td>\n",
       "      <td>insgesamt</td>\n",
       "      <td>2000</td>\n",
       "      <td>200011</td>\n",
       "      <td>71.0</td>\n",
       "      <td>NaN</td>\n",
       "      <td>-14.46</td>\n",
       "      <td>NaN</td>\n",
       "      <td>77.0</td>\n",
       "      <td>NaN</td>\n",
       "    </tr>\n",
       "    <tr>\n",
       "      <th>11</th>\n",
       "      <td>Alkoholunfälle</td>\n",
       "      <td>insgesamt</td>\n",
       "      <td>2000</td>\n",
       "      <td>200012</td>\n",
       "      <td>85.0</td>\n",
       "      <td>NaN</td>\n",
       "      <td>19.72</td>\n",
       "      <td>NaN</td>\n",
       "      <td>78.0</td>\n",
       "      <td>NaN</td>\n",
       "    </tr>\n",
       "    <tr>\n",
       "      <th>12</th>\n",
       "      <td>Alkoholunfälle</td>\n",
       "      <td>insgesamt</td>\n",
       "      <td>2001</td>\n",
       "      <td>200101</td>\n",
       "      <td>66.0</td>\n",
       "      <td>78.0</td>\n",
       "      <td>-22.35</td>\n",
       "      <td>-15.38</td>\n",
       "      <td>77.0</td>\n",
       "      <td>-12.0</td>\n",
       "    </tr>\n",
       "    <tr>\n",
       "      <th>13</th>\n",
       "      <td>Alkoholunfälle</td>\n",
       "      <td>insgesamt</td>\n",
       "      <td>2001</td>\n",
       "      <td>200102</td>\n",
       "      <td>49.0</td>\n",
       "      <td>53.0</td>\n",
       "      <td>-25.76</td>\n",
       "      <td>-7.55</td>\n",
       "      <td>77.0</td>\n",
       "      <td>-4.0</td>\n",
       "    </tr>\n",
       "  </tbody>\n",
       "</table>\n",
       "</div>"
      ],
      "text/plain": [
       "        monatszahl auspraegung  jahr   monat  wert  vorjahreswert  \\\n",
       "0   Alkoholunfälle   insgesamt  2000  200001  78.0            NaN   \n",
       "1   Alkoholunfälle   insgesamt  2000  200002  53.0            NaN   \n",
       "2   Alkoholunfälle   insgesamt  2000  200003  73.0            NaN   \n",
       "3   Alkoholunfälle   insgesamt  2000  200004  78.0            NaN   \n",
       "4   Alkoholunfälle   insgesamt  2000  200005  96.0            NaN   \n",
       "5   Alkoholunfälle   insgesamt  2000  200006  57.0            NaN   \n",
       "6   Alkoholunfälle   insgesamt  2000  200007  99.0            NaN   \n",
       "7   Alkoholunfälle   insgesamt  2000  200008  77.0            NaN   \n",
       "8   Alkoholunfälle   insgesamt  2000  200009  84.0            NaN   \n",
       "9   Alkoholunfälle   insgesamt  2000  200010  83.0            NaN   \n",
       "10  Alkoholunfälle   insgesamt  2000  200011  71.0            NaN   \n",
       "11  Alkoholunfälle   insgesamt  2000  200012  85.0            NaN   \n",
       "12  Alkoholunfälle   insgesamt  2001  200101  66.0           78.0   \n",
       "13  Alkoholunfälle   insgesamt  2001  200102  49.0           53.0   \n",
       "\n",
       "    veraend_vormonat_prozent  veraend_vorjahresmonat_prozent  \\\n",
       "0                        NaN                             NaN   \n",
       "1                     -32.05                             NaN   \n",
       "2                      37.74                             NaN   \n",
       "3                       6.85                             NaN   \n",
       "4                      23.08                             NaN   \n",
       "5                     -40.63                             NaN   \n",
       "6                      73.68                             NaN   \n",
       "7                     -22.22                             NaN   \n",
       "8                       9.09                             NaN   \n",
       "9                      -1.19                             NaN   \n",
       "10                    -14.46                             NaN   \n",
       "11                     19.72                             NaN   \n",
       "12                    -22.35                          -15.38   \n",
       "13                    -25.76                           -7.55   \n",
       "\n",
       "    zwoelf_monate_mittelwert  Seasonal First Difference  \n",
       "0                       78.0                        NaN  \n",
       "1                       66.0                        NaN  \n",
       "2                       68.0                        NaN  \n",
       "3                       71.0                        NaN  \n",
       "4                       76.0                        NaN  \n",
       "5                       73.0                        NaN  \n",
       "6                       76.0                        NaN  \n",
       "7                       76.0                        NaN  \n",
       "8                       77.0                        NaN  \n",
       "9                       78.0                        NaN  \n",
       "10                      77.0                        NaN  \n",
       "11                      78.0                        NaN  \n",
       "12                      77.0                      -12.0  \n",
       "13                      77.0                       -4.0  "
      ]
     },
     "execution_count": 15,
     "metadata": {},
     "output_type": "execute_result"
    }
   ],
   "source": [
    "train_df2.head(14)"
   ]
  },
  {
   "cell_type": "code",
   "execution_count": 16,
   "metadata": {},
   "outputs": [
    {
     "name": "stdout",
     "output_type": "stream",
     "text": [
      "1. ADF :  -3.358728737351926\n",
      "2. P-Value :  0.012448890266151648\n",
      "3. Num Of Lags :  15\n",
      "4. Num Of Observations Used For ADF Regression: 224\n",
      "5. Critical Values :\n",
      "\t 1% :  -3.459884913337196\n",
      "\t 5% :  -2.8745310704320794\n",
      "\t 10% :  -2.573693840082908\n"
     ]
    }
   ],
   "source": [
    "## Again test dickey fuller test\n",
    "ad_test(train_df2['Seasonal First Difference'].dropna())\n",
    "\n",
    "## Again test dickey fuller test\n",
    "#adfuller_test(df['Seasonal First Difference'].dropna())\n",
    "\n",
    "#ad_test(train_df2.wert)\n",
    "    #ad_test(df['AvgTemp'])"
   ]
  },
  {
   "cell_type": "code",
   "execution_count": 17,
   "metadata": {},
   "outputs": [
    {
     "data": {
      "text/plain": [
       "<AxesSubplot:>"
      ]
     },
     "execution_count": 17,
     "metadata": {},
     "output_type": "execute_result"
    },
    {
     "data": {
      "image/png": "[encoded data removed]",
      "text/plain": [
       "<Figure size 432x288 with 1 Axes>"
      ]
     },
     "metadata": {
      "needs_background": "light"
     },
     "output_type": "display_data"
    }
   ],
   "source": [
    "train_df2['Seasonal First Difference'].plot()"
   ]
  },
  {
   "cell_type": "code",
   "execution_count": 18,
   "metadata": {},
   "outputs": [],
   "source": [
    "from statsmodels.graphics.tsaplots import plot_acf,plot_pacf"
   ]
  },
  {
   "cell_type": "code",
   "execution_count": 22,
   "metadata": {},
   "outputs": [
    {
     "data": {
      "image/png": "[encoded data removed]",
      "text/plain": [
       "<Figure size 864x576 with 2 Axes>"
      ]
     },
     "metadata": {
      "needs_background": "light"
     },
     "output_type": "display_data"
    }
   ],
   "source": [
    "fig = plt.figure(figsize=(12,8))\n",
    "ax1 = fig.add_subplot(211)\n",
    "fig = sm.graphics.tsa.plot_acf(train_df2['Seasonal First Difference'].iloc[13:],lags=40,ax=ax1)\n",
    "ax2 = fig.add_subplot(212)\n",
    "fig = sm.graphics.tsa.plot_pacf(train_df2['Seasonal First Difference'].iloc[13:],lags=40,ax=ax2)"
   ]
  },
  {
   "cell_type": "code",
   "execution_count": 25,
   "metadata": {},
   "outputs": [],
   "source": [
    "# For non-seasonal data\n",
    "#p=1, d=1, q=0 or 1\n",
    "# from statsmodels.tsa.arima_model import ARIMA\n",
    "from statsmodels.tsa.arima.model import ARIMA"
   ]
  },
  {
   "cell_type": "code",
   "execution_count": 26,
   "metadata": {},
   "outputs": [],
   "source": [
    "model=ARIMA(train_df2['wert'],order=(1,1,1))\n",
    "model_fit=model.fit()"
   ]
  },
  {
   "cell_type": "code",
   "execution_count": 27,
   "metadata": {},
   "outputs": [
    {
     "data": {
      "text/html": [
       "<table class=\"simpletable\">\n",
       "<caption>SARIMAX Results</caption>\n",
       "<tr>\n",
       "  <th>Dep. Variable:</th>         <td>wert</td>       <th>  No. Observations:  </th>    <td>252</td>  \n",
       "</tr>\n",
       "<tr>\n",
       "  <th>Model:</th>            <td>ARIMA(1, 1, 1)</td>  <th>  Log Likelihood     </th> <td>-962.013</td>\n",
       "</tr>\n",
       "<tr>\n",
       "  <th>Date:</th>            <td>Wed, 19 Jan 2022</td> <th>  AIC                </th> <td>1930.027</td>\n",
       "</tr>\n",
       "<tr>\n",
       "  <th>Time:</th>                <td>19:18:21</td>     <th>  BIC                </th> <td>1940.603</td>\n",
       "</tr>\n",
       "<tr>\n",
       "  <th>Sample:</th>                  <td>0</td>        <th>  HQIC               </th> <td>1934.283</td>\n",
       "</tr>\n",
       "<tr>\n",
       "  <th></th>                      <td> - 252</td>      <th>                     </th>     <td> </td>   \n",
       "</tr>\n",
       "<tr>\n",
       "  <th>Covariance Type:</th>        <td>opg</td>       <th>                     </th>     <td> </td>   \n",
       "</tr>\n",
       "</table>\n",
       "<table class=\"simpletable\">\n",
       "<tr>\n",
       "     <td></td>       <th>coef</th>     <th>std err</th>      <th>z</th>      <th>P>|z|</th>  <th>[0.025</th>    <th>0.975]</th>  \n",
       "</tr>\n",
       "<tr>\n",
       "  <th>ar.L1</th>  <td>    0.4003</td> <td>    0.073</td> <td>    5.464</td> <td> 0.000</td> <td>    0.257</td> <td>    0.544</td>\n",
       "</tr>\n",
       "<tr>\n",
       "  <th>ma.L1</th>  <td>   -0.9261</td> <td>    0.031</td> <td>  -30.005</td> <td> 0.000</td> <td>   -0.987</td> <td>   -0.866</td>\n",
       "</tr>\n",
       "<tr>\n",
       "  <th>sigma2</th> <td>  124.3188</td> <td>   10.243</td> <td>   12.137</td> <td> 0.000</td> <td>  104.243</td> <td>  144.394</td>\n",
       "</tr>\n",
       "</table>\n",
       "<table class=\"simpletable\">\n",
       "<tr>\n",
       "  <th>Ljung-Box (L1) (Q):</th>     <td>0.97</td> <th>  Jarque-Bera (JB):  </th> <td>12.68</td>\n",
       "</tr>\n",
       "<tr>\n",
       "  <th>Prob(Q):</th>                <td>0.33</td> <th>  Prob(JB):          </th> <td>0.00</td> \n",
       "</tr>\n",
       "<tr>\n",
       "  <th>Heteroskedasticity (H):</th> <td>0.41</td> <th>  Skew:              </th> <td>0.39</td> \n",
       "</tr>\n",
       "<tr>\n",
       "  <th>Prob(H) (two-sided):</th>    <td>0.00</td> <th>  Kurtosis:          </th> <td>3.78</td> \n",
       "</tr>\n",
       "</table><br/><br/>Warnings:<br/>[1] Covariance matrix calculated using the outer product of gradients (complex-step)."
      ],
      "text/plain": [
       "<class 'statsmodels.iolib.summary.Summary'>\n",
       "\"\"\"\n",
       "                               SARIMAX Results                                \n",
       "==============================================================================\n",
       "Dep. Variable:                   wert   No. Observations:                  252\n",
       "Model:                 ARIMA(1, 1, 1)   Log Likelihood                -962.013\n",
       "Date:                Wed, 19 Jan 2022   AIC                           1930.027\n",
       "Time:                        19:18:21   BIC                           1940.603\n",
       "Sample:                             0   HQIC                          1934.283\n",
       "                                - 252                                         \n",
       "Covariance Type:                  opg                                         \n",
       "==============================================================================\n",
       "                 coef    std err          z      P>|z|      [0.025      0.975]\n",
       "------------------------------------------------------------------------------\n",
       "ar.L1          0.4003      0.073      5.464      0.000       0.257       0.544\n",
       "ma.L1         -0.9261      0.031    -30.005      0.000      -0.987      -0.866\n",
       "sigma2       124.3188     10.243     12.137      0.000     104.243     144.394\n",
       "===================================================================================\n",
       "Ljung-Box (L1) (Q):                   0.97   Jarque-Bera (JB):                12.68\n",
       "Prob(Q):                              0.33   Prob(JB):                         0.00\n",
       "Heteroskedasticity (H):               0.41   Skew:                             0.39\n",
       "Prob(H) (two-sided):                  0.00   Kurtosis:                         3.78\n",
       "===================================================================================\n",
       "\n",
       "Warnings:\n",
       "[1] Covariance matrix calculated using the outer product of gradients (complex-step).\n",
       "\"\"\""
      ]
     },
     "execution_count": 27,
     "metadata": {},
     "output_type": "execute_result"
    }
   ],
   "source": [
    "model_fit.summary()"
   ]
  },
  {
   "cell_type": "code",
   "execution_count": 29,
   "metadata": {},
   "outputs": [
    {
     "data": {
      "text/plain": [
       "<AxesSubplot:>"
      ]
     },
     "execution_count": 29,
     "metadata": {},
     "output_type": "execute_result"
    },
    {
     "data": {
      "image/png": "[encoded data removed]",
      "text/plain": [
       "<Figure size 864x576 with 1 Axes>"
      ]
     },
     "metadata": {
      "needs_background": "light"
     },
     "output_type": "display_data"
    }
   ],
   "source": [
    "train_df2['forecast']=model_fit.predict(start=225,end=250,dynamic=True)\n",
    "train_df2[['wert','forecast']].plot(figsize=(12,8))"
   ]
  },
  {
   "cell_type": "code",
   "execution_count": 30,
   "metadata": {},
   "outputs": [],
   "source": [
    "import statsmodels.api as sm"
   ]
  },
  {
   "cell_type": "code",
   "execution_count": 31,
   "metadata": {},
   "outputs": [],
   "source": [
    "model=sm.tsa.statespace.SARIMAX(train_df2['wert'],order=(1, 1, 1),seasonal_order=(1,1,1,12))\n",
    "results=model.fit(disp=0)"
   ]
  },
  {
   "cell_type": "code",
   "execution_count": 32,
   "metadata": {},
   "outputs": [
    {
     "data": {
      "text/plain": [
       "<AxesSubplot:>"
      ]
     },
     "execution_count": 32,
     "metadata": {},
     "output_type": "execute_result"
    },
    {
     "data": {
      "image/png": "[encoded data removed]",
      "text/plain": [
       "<Figure size 1584x864 with 1 Axes>"
      ]
     },
     "metadata": {
      "needs_background": "light"
     },
     "output_type": "display_data"
    }
   ],
   "source": [
    "train_df2['forecast']=results.predict(start=220,end=250,dynamic=True)\n",
    "train_df2[['wert','forecast']].plot(figsize=(22,12))"
   ]
  },
  {
   "cell_type": "code",
   "execution_count": 33,
   "metadata": {},
   "outputs": [
    {
     "data": {
      "text/html": [
       "<div>\n",
       "<style scoped>\n",
       "    .dataframe tbody tr th:only-of-type {\n",
       "        vertical-align: middle;\n",
       "    }\n",
       "\n",
       "    .dataframe tbody tr th {\n",
       "        vertical-align: top;\n",
       "    }\n",
       "\n",
       "    .dataframe thead th {\n",
       "        text-align: right;\n",
       "    }\n",
       "</style>\n",
       "<table border=\"1\" class=\"dataframe\">\n",
       "  <thead>\n",
       "    <tr style=\"text-align: right;\">\n",
       "      <th></th>\n",
       "      <th>monatszahl</th>\n",
       "      <th>auspraegung</th>\n",
       "      <th>jahr</th>\n",
       "      <th>monat</th>\n",
       "      <th>wert</th>\n",
       "      <th>vorjahreswert</th>\n",
       "      <th>veraend_vormonat_prozent</th>\n",
       "      <th>veraend_vorjahresmonat_prozent</th>\n",
       "      <th>zwoelf_monate_mittelwert</th>\n",
       "      <th>Seasonal First Difference</th>\n",
       "      <th>forecast</th>\n",
       "    </tr>\n",
       "  </thead>\n",
       "  <tbody>\n",
       "    <tr>\n",
       "      <th>247</th>\n",
       "      <td>Alkoholunfälle</td>\n",
       "      <td>insgesamt</td>\n",
       "      <td>2020</td>\n",
       "      <td>202008</td>\n",
       "      <td>46.0</td>\n",
       "      <td>31.0</td>\n",
       "      <td>-20.69</td>\n",
       "      <td>48.39</td>\n",
       "      <td>39.0</td>\n",
       "      <td>15.0</td>\n",
       "      <td>36.166553</td>\n",
       "    </tr>\n",
       "    <tr>\n",
       "      <th>248</th>\n",
       "      <td>Alkoholunfälle</td>\n",
       "      <td>insgesamt</td>\n",
       "      <td>2020</td>\n",
       "      <td>202009</td>\n",
       "      <td>46.0</td>\n",
       "      <td>47.0</td>\n",
       "      <td>0.00</td>\n",
       "      <td>-2.13</td>\n",
       "      <td>39.0</td>\n",
       "      <td>-1.0</td>\n",
       "      <td>41.926703</td>\n",
       "    </tr>\n",
       "    <tr>\n",
       "      <th>249</th>\n",
       "      <td>Alkoholunfälle</td>\n",
       "      <td>insgesamt</td>\n",
       "      <td>2020</td>\n",
       "      <td>202010</td>\n",
       "      <td>34.0</td>\n",
       "      <td>45.0</td>\n",
       "      <td>-26.09</td>\n",
       "      <td>-24.44</td>\n",
       "      <td>38.0</td>\n",
       "      <td>-11.0</td>\n",
       "      <td>30.458438</td>\n",
       "    </tr>\n",
       "    <tr>\n",
       "      <th>250</th>\n",
       "      <td>Alkoholunfälle</td>\n",
       "      <td>insgesamt</td>\n",
       "      <td>2020</td>\n",
       "      <td>202011</td>\n",
       "      <td>23.0</td>\n",
       "      <td>29.0</td>\n",
       "      <td>-32.35</td>\n",
       "      <td>-20.69</td>\n",
       "      <td>38.0</td>\n",
       "      <td>-6.0</td>\n",
       "      <td>29.957373</td>\n",
       "    </tr>\n",
       "    <tr>\n",
       "      <th>251</th>\n",
       "      <td>Alkoholunfälle</td>\n",
       "      <td>insgesamt</td>\n",
       "      <td>2020</td>\n",
       "      <td>202012</td>\n",
       "      <td>13.0</td>\n",
       "      <td>35.0</td>\n",
       "      <td>-43.48</td>\n",
       "      <td>-62.86</td>\n",
       "      <td>36.0</td>\n",
       "      <td>-22.0</td>\n",
       "      <td>NaN</td>\n",
       "    </tr>\n",
       "  </tbody>\n",
       "</table>\n",
       "</div>"
      ],
      "text/plain": [
       "         monatszahl auspraegung  jahr   monat  wert  vorjahreswert  \\\n",
       "247  Alkoholunfälle   insgesamt  2020  202008  46.0           31.0   \n",
       "248  Alkoholunfälle   insgesamt  2020  202009  46.0           47.0   \n",
       "249  Alkoholunfälle   insgesamt  2020  202010  34.0           45.0   \n",
       "250  Alkoholunfälle   insgesamt  2020  202011  23.0           29.0   \n",
       "251  Alkoholunfälle   insgesamt  2020  202012  13.0           35.0   \n",
       "\n",
       "     veraend_vormonat_prozent  veraend_vorjahresmonat_prozent  \\\n",
       "247                    -20.69                           48.39   \n",
       "248                      0.00                           -2.13   \n",
       "249                    -26.09                          -24.44   \n",
       "250                    -32.35                          -20.69   \n",
       "251                    -43.48                          -62.86   \n",
       "\n",
       "     zwoelf_monate_mittelwert  Seasonal First Difference   forecast  \n",
       "247                      39.0                       15.0  36.166553  \n",
       "248                      39.0                       -1.0  41.926703  \n",
       "249                      38.0                      -11.0  30.458438  \n",
       "250                      38.0                       -6.0  29.957373  \n",
       "251                      36.0                      -22.0        NaN  "
      ]
     },
     "execution_count": 33,
     "metadata": {},
     "output_type": "execute_result"
    }
   ],
   "source": [
    "train_df2.tail()"
   ]
  },
  {
   "cell_type": "code",
   "execution_count": 34,
   "metadata": {},
   "outputs": [],
   "source": [
    "train_df2['monat'] = pd.to_datetime(train_df2['monat'].astype(str), format='%Y%m', errors='coerce').dropna()"
   ]
  },
  {
   "cell_type": "code",
   "execution_count": 35,
   "metadata": {},
   "outputs": [
    {
     "data": {
      "text/html": [
       "<div>\n",
       "<style scoped>\n",
       "    .dataframe tbody tr th:only-of-type {\n",
       "        vertical-align: middle;\n",
       "    }\n",
       "\n",
       "    .dataframe tbody tr th {\n",
       "        vertical-align: top;\n",
       "    }\n",
       "\n",
       "    .dataframe thead th {\n",
       "        text-align: right;\n",
       "    }\n",
       "</style>\n",
       "<table border=\"1\" class=\"dataframe\">\n",
       "  <thead>\n",
       "    <tr style=\"text-align: right;\">\n",
       "      <th></th>\n",
       "      <th>monatszahl</th>\n",
       "      <th>auspraegung</th>\n",
       "      <th>jahr</th>\n",
       "      <th>monat</th>\n",
       "      <th>wert</th>\n",
       "      <th>vorjahreswert</th>\n",
       "      <th>veraend_vormonat_prozent</th>\n",
       "      <th>veraend_vorjahresmonat_prozent</th>\n",
       "      <th>zwoelf_monate_mittelwert</th>\n",
       "      <th>Seasonal First Difference</th>\n",
       "      <th>forecast</th>\n",
       "    </tr>\n",
       "  </thead>\n",
       "  <tbody>\n",
       "    <tr>\n",
       "      <th>247</th>\n",
       "      <td>Alkoholunfälle</td>\n",
       "      <td>insgesamt</td>\n",
       "      <td>2020</td>\n",
       "      <td>2020-08-01</td>\n",
       "      <td>46.0</td>\n",
       "      <td>31.0</td>\n",
       "      <td>-20.69</td>\n",
       "      <td>48.39</td>\n",
       "      <td>39.0</td>\n",
       "      <td>15.0</td>\n",
       "      <td>36.166553</td>\n",
       "    </tr>\n",
       "    <tr>\n",
       "      <th>248</th>\n",
       "      <td>Alkoholunfälle</td>\n",
       "      <td>insgesamt</td>\n",
       "      <td>2020</td>\n",
       "      <td>2020-09-01</td>\n",
       "      <td>46.0</td>\n",
       "      <td>47.0</td>\n",
       "      <td>0.00</td>\n",
       "      <td>-2.13</td>\n",
       "      <td>39.0</td>\n",
       "      <td>-1.0</td>\n",
       "      <td>41.926703</td>\n",
       "    </tr>\n",
       "    <tr>\n",
       "      <th>249</th>\n",
       "      <td>Alkoholunfälle</td>\n",
       "      <td>insgesamt</td>\n",
       "      <td>2020</td>\n",
       "      <td>2020-10-01</td>\n",
       "      <td>34.0</td>\n",
       "      <td>45.0</td>\n",
       "      <td>-26.09</td>\n",
       "      <td>-24.44</td>\n",
       "      <td>38.0</td>\n",
       "      <td>-11.0</td>\n",
       "      <td>30.458438</td>\n",
       "    </tr>\n",
       "    <tr>\n",
       "      <th>250</th>\n",
       "      <td>Alkoholunfälle</td>\n",
       "      <td>insgesamt</td>\n",
       "      <td>2020</td>\n",
       "      <td>2020-11-01</td>\n",
       "      <td>23.0</td>\n",
       "      <td>29.0</td>\n",
       "      <td>-32.35</td>\n",
       "      <td>-20.69</td>\n",
       "      <td>38.0</td>\n",
       "      <td>-6.0</td>\n",
       "      <td>29.957373</td>\n",
       "    </tr>\n",
       "    <tr>\n",
       "      <th>251</th>\n",
       "      <td>Alkoholunfälle</td>\n",
       "      <td>insgesamt</td>\n",
       "      <td>2020</td>\n",
       "      <td>2020-12-01</td>\n",
       "      <td>13.0</td>\n",
       "      <td>35.0</td>\n",
       "      <td>-43.48</td>\n",
       "      <td>-62.86</td>\n",
       "      <td>36.0</td>\n",
       "      <td>-22.0</td>\n",
       "      <td>NaN</td>\n",
       "    </tr>\n",
       "  </tbody>\n",
       "</table>\n",
       "</div>"
      ],
      "text/plain": [
       "         monatszahl auspraegung  jahr      monat  wert  vorjahreswert  \\\n",
       "247  Alkoholunfälle   insgesamt  2020 2020-08-01  46.0           31.0   \n",
       "248  Alkoholunfälle   insgesamt  2020 2020-09-01  46.0           47.0   \n",
       "249  Alkoholunfälle   insgesamt  2020 2020-10-01  34.0           45.0   \n",
       "250  Alkoholunfälle   insgesamt  2020 2020-11-01  23.0           29.0   \n",
       "251  Alkoholunfälle   insgesamt  2020 2020-12-01  13.0           35.0   \n",
       "\n",
       "     veraend_vormonat_prozent  veraend_vorjahresmonat_prozent  \\\n",
       "247                    -20.69                           48.39   \n",
       "248                      0.00                           -2.13   \n",
       "249                    -26.09                          -24.44   \n",
       "250                    -32.35                          -20.69   \n",
       "251                    -43.48                          -62.86   \n",
       "\n",
       "     zwoelf_monate_mittelwert  Seasonal First Difference   forecast  \n",
       "247                      39.0                       15.0  36.166553  \n",
       "248                      39.0                       -1.0  41.926703  \n",
       "249                      38.0                      -11.0  30.458438  \n",
       "250                      38.0                       -6.0  29.957373  \n",
       "251                      36.0                      -22.0        NaN  "
      ]
     },
     "execution_count": 35,
     "metadata": {},
     "output_type": "execute_result"
    }
   ],
   "source": [
    "train_df2.tail()"
   ]
  },
  {
   "cell_type": "markdown",
   "metadata": {},
   "source": [
    "# Split Data into Training and Testing"
   ]
  },
  {
   "cell_type": "code",
   "execution_count": 36,
   "metadata": {},
   "outputs": [
    {
     "name": "stdout",
     "output_type": "stream",
     "text": [
      "(252, 11)\n",
      "(222, 11) (30, 11)\n",
      "monatszahl                             Alkoholunfälle\n",
      "auspraegung                                 insgesamt\n",
      "jahr                                             2018\n",
      "monat                             2018-07-01 00:00:00\n",
      "wert                                             51.0\n",
      "vorjahreswert                                    52.0\n",
      "veraend_vormonat_prozent                        30.77\n",
      "veraend_vorjahresmonat_prozent                  -1.92\n",
      "zwoelf_monate_mittelwert                         34.0\n",
      "Seasonal First Difference                        -1.0\n",
      "forecast                                    44.106767\n",
      "Name: 222, dtype: object monatszahl                             Alkoholunfälle\n",
      "auspraegung                                 insgesamt\n",
      "jahr                                             2020\n",
      "monat                             2020-12-01 00:00:00\n",
      "wert                                             13.0\n",
      "vorjahreswert                                    35.0\n",
      "veraend_vormonat_prozent                       -43.48\n",
      "veraend_vorjahresmonat_prozent                 -62.86\n",
      "zwoelf_monate_mittelwert                         36.0\n",
      "Seasonal First Difference                       -22.0\n",
      "forecast                                          NaN\n",
      "Name: 251, dtype: object\n"
     ]
    }
   ],
   "source": [
    "print(train_df2.shape)\n",
    "train=train_df2.iloc[:-30]\n",
    "test=train_df2.iloc[-30:]\n",
    "print(train.shape,test.shape)\n",
    "print(test.iloc[0],test.iloc[-1])"
   ]
  },
  {
   "cell_type": "markdown",
   "metadata": {},
   "source": [
    "# Train the Model"
   ]
  },
  {
   "cell_type": "code",
   "execution_count": 39,
   "metadata": {},
   "outputs": [
    {
     "name": "stderr",
     "output_type": "stream",
     "text": [
      " This problem is unconstrained.\n"
     ]
    },
    {
     "name": "stdout",
     "output_type": "stream",
     "text": [
      "RUNNING THE L-BFGS-B CODE\n",
      "\n",
      "           * * *\n",
      "\n",
      "Machine precision = 2.220D-16\n",
      " N =            5     M =           10\n",
      "\n",
      "At X0         0 variables are exactly at the bounds\n",
      "\n",
      "At iterate    0    f=  3.49177D+00    |proj g|=  1.00200D-01\n",
      "\n",
      "At iterate    5    f=  3.40558D+00    |proj g|=  1.38624D-02\n",
      "\n",
      "At iterate   10    f=  3.38835D+00    |proj g|=  2.83595D-03\n",
      "\n",
      "At iterate   15    f=  3.38814D+00    |proj g|=  1.01522D-04\n",
      "\n",
      "           * * *\n",
      "\n",
      "Tit   = total number of iterations\n",
      "Tnf   = total number of function evaluations\n",
      "Tnint = total number of segments explored during Cauchy searches\n",
      "Skip  = number of BFGS updates skipped\n",
      "Nact  = number of active bounds at final generalized Cauchy point\n",
      "Projg = norm of the final projected gradient\n",
      "F     = final function value\n",
      "\n",
      "           * * *\n",
      "\n",
      "   N    Tit     Tnf  Tnint  Skip  Nact     Projg        F\n",
      "    5     17     20      1     0     0   1.124D-06   3.388D+00\n",
      "  F =   3.3881425907463063     \n",
      "\n",
      "CONVERGENCE: NORM_OF_PROJECTED_GRADIENT_<=_PGTOL            \n"
     ]
    },
    {
     "data": {
      "text/html": [
       "<table class=\"simpletable\">\n",
       "<caption>SARIMAX Results</caption>\n",
       "<tr>\n",
       "  <th>Dep. Variable:</th>                <td>wert</td>              <th>  No. Observations:  </th>    <td>252</td>  \n",
       "</tr>\n",
       "<tr>\n",
       "  <th>Model:</th>           <td>SARIMAX(1, 1, 1)x(1, 1, 1, 12)</td> <th>  Log Likelihood     </th> <td>-853.812</td>\n",
       "</tr>\n",
       "<tr>\n",
       "  <th>Date:</th>                   <td>Wed, 19 Jan 2022</td>        <th>  AIC                </th> <td>1717.624</td>\n",
       "</tr>\n",
       "<tr>\n",
       "  <th>Time:</th>                       <td>19:19:57</td>            <th>  BIC                </th> <td>1735.006</td>\n",
       "</tr>\n",
       "<tr>\n",
       "  <th>Sample:</th>                         <td>0</td>               <th>  HQIC               </th> <td>1724.628</td>\n",
       "</tr>\n",
       "<tr>\n",
       "  <th></th>                             <td> - 252</td>             <th>                     </th>     <td> </td>   \n",
       "</tr>\n",
       "<tr>\n",
       "  <th>Covariance Type:</th>               <td>opg</td>              <th>                     </th>     <td> </td>   \n",
       "</tr>\n",
       "</table>\n",
       "<table class=\"simpletable\">\n",
       "<tr>\n",
       "      <td></td>        <th>coef</th>     <th>std err</th>      <th>z</th>      <th>P>|z|</th>  <th>[0.025</th>    <th>0.975]</th>  \n",
       "</tr>\n",
       "<tr>\n",
       "  <th>ar.L1</th>    <td>    0.1090</td> <td>    0.076</td> <td>    1.443</td> <td> 0.149</td> <td>   -0.039</td> <td>    0.257</td>\n",
       "</tr>\n",
       "<tr>\n",
       "  <th>ma.L1</th>    <td>   -0.9164</td> <td>    0.037</td> <td>  -24.976</td> <td> 0.000</td> <td>   -0.988</td> <td>   -0.844</td>\n",
       "</tr>\n",
       "<tr>\n",
       "  <th>ar.S.L12</th> <td>   -0.0725</td> <td>    0.092</td> <td>   -0.784</td> <td> 0.433</td> <td>   -0.254</td> <td>    0.109</td>\n",
       "</tr>\n",
       "<tr>\n",
       "  <th>ma.S.L12</th> <td>   -0.7049</td> <td>    0.086</td> <td>   -8.187</td> <td> 0.000</td> <td>   -0.874</td> <td>   -0.536</td>\n",
       "</tr>\n",
       "<tr>\n",
       "  <th>sigma2</th>   <td>   70.6576</td> <td>    5.740</td> <td>   12.310</td> <td> 0.000</td> <td>   59.408</td> <td>   81.908</td>\n",
       "</tr>\n",
       "</table>\n",
       "<table class=\"simpletable\">\n",
       "<tr>\n",
       "  <th>Ljung-Box (L1) (Q):</th>     <td>0.01</td> <th>  Jarque-Bera (JB):  </th> <td>6.29</td>\n",
       "</tr>\n",
       "<tr>\n",
       "  <th>Prob(Q):</th>                <td>0.93</td> <th>  Prob(JB):          </th> <td>0.04</td>\n",
       "</tr>\n",
       "<tr>\n",
       "  <th>Heteroskedasticity (H):</th> <td>0.58</td> <th>  Skew:              </th> <td>0.10</td>\n",
       "</tr>\n",
       "<tr>\n",
       "  <th>Prob(H) (two-sided):</th>    <td>0.02</td> <th>  Kurtosis:          </th> <td>3.77</td>\n",
       "</tr>\n",
       "</table><br/><br/>Warnings:<br/>[1] Covariance matrix calculated using the outer product of gradients (complex-step)."
      ],
      "text/plain": [
       "<class 'statsmodels.iolib.summary.Summary'>\n",
       "\"\"\"\n",
       "                                     SARIMAX Results                                      \n",
       "==========================================================================================\n",
       "Dep. Variable:                               wert   No. Observations:                  252\n",
       "Model:             SARIMAX(1, 1, 1)x(1, 1, 1, 12)   Log Likelihood                -853.812\n",
       "Date:                            Wed, 19 Jan 2022   AIC                           1717.624\n",
       "Time:                                    19:19:57   BIC                           1735.006\n",
       "Sample:                                         0   HQIC                          1724.628\n",
       "                                            - 252                                         \n",
       "Covariance Type:                              opg                                         \n",
       "==============================================================================\n",
       "                 coef    std err          z      P>|z|      [0.025      0.975]\n",
       "------------------------------------------------------------------------------\n",
       "ar.L1          0.1090      0.076      1.443      0.149      -0.039       0.257\n",
       "ma.L1         -0.9164      0.037    -24.976      0.000      -0.988      -0.844\n",
       "ar.S.L12      -0.0725      0.092     -0.784      0.433      -0.254       0.109\n",
       "ma.S.L12      -0.7049      0.086     -8.187      0.000      -0.874      -0.536\n",
       "sigma2        70.6576      5.740     12.310      0.000      59.408      81.908\n",
       "===================================================================================\n",
       "Ljung-Box (L1) (Q):                   0.01   Jarque-Bera (JB):                 6.29\n",
       "Prob(Q):                              0.93   Prob(JB):                         0.04\n",
       "Heteroskedasticity (H):               0.58   Skew:                             0.10\n",
       "Prob(H) (two-sided):                  0.02   Kurtosis:                         3.77\n",
       "===================================================================================\n",
       "\n",
       "Warnings:\n",
       "[1] Covariance matrix calculated using the outer product of gradients (complex-step).\n",
       "\"\"\""
      ]
     },
     "execution_count": 39,
     "metadata": {},
     "output_type": "execute_result"
    }
   ],
   "source": [
    "# modell=ARIMA(train['wert'],order=(1,1,1))\n",
    "modell=model.fit()\n",
    "modell.summary()"
   ]
  },
  {
   "cell_type": "code",
   "execution_count": null,
   "metadata": {},
   "outputs": [],
   "source": [
    "model.forecast(steps=12).values"
   ]
  },
  {
   "cell_type": "markdown",
   "metadata": {},
   "source": [
    "# Make Predictions on Test Set"
   ]
  },
  {
   "cell_type": "code",
   "execution_count": 47,
   "metadata": {},
   "outputs": [
    {
     "data": {
      "text/plain": [
       "<AxesSubplot:>"
      ]
     },
     "execution_count": 47,
     "metadata": {},
     "output_type": "execute_result"
    },
    {
     "data": {
      "image/png": "[encoded data removed]",
      "text/plain": [
       "<Figure size 432x288 with 1 Axes>"
      ]
     },
     "metadata": {
      "needs_background": "light"
     },
     "output_type": "display_data"
    }
   ],
   "source": [
    "start=len(train)\n",
    "end=len(train)+len(test)-1\n",
    "#if the predicted values dont have date values as index, you will have to uncomment the following two commented lines to plot a graph\n",
    "#index_future_dates=pd.date_range(start='2020-12-01',end='2021-01-30')\n",
    "pred=modell.predict(start=start,end=end,typ='levels').rename('ARIMA predictions')\n",
    "#pred.index=index_future_dates\n",
    "\n",
    "my_result = modell.predict(\n",
    "    start=start,\n",
    "    end=end,\n",
    "    typ='levels').rename(\n",
    "    'ARIMA predictions'\n",
    ")\n",
    "\n",
    "# pred.plot(legend=True)\n",
    "test['wert'].plot(legend=True)\n",
    "my_result.plot(legend=True)"
   ]
  },
  {
   "cell_type": "code",
   "execution_count": 53,
   "metadata": {},
   "outputs": [
    {
     "data": {
      "text/plain": [
       "222"
      ]
     },
     "execution_count": 53,
     "metadata": {},
     "output_type": "execute_result"
    }
   ],
   "source": [
    "start"
   ]
  },
  {
   "cell_type": "code",
   "execution_count": 52,
   "metadata": {},
   "outputs": [
    {
     "data": {
      "text/html": [
       "<div>\n",
       "<style scoped>\n",
       "    .dataframe tbody tr th:only-of-type {\n",
       "        vertical-align: middle;\n",
       "    }\n",
       "\n",
       "    .dataframe tbody tr th {\n",
       "        vertical-align: top;\n",
       "    }\n",
       "\n",
       "    .dataframe thead th {\n",
       "        text-align: right;\n",
       "    }\n",
       "</style>\n",
       "<table border=\"1\" class=\"dataframe\">\n",
       "  <thead>\n",
       "    <tr style=\"text-align: right;\">\n",
       "      <th></th>\n",
       "      <th>monatszahl</th>\n",
       "      <th>auspraegung</th>\n",
       "      <th>jahr</th>\n",
       "      <th>monat</th>\n",
       "      <th>wert</th>\n",
       "      <th>vorjahreswert</th>\n",
       "      <th>veraend_vormonat_prozent</th>\n",
       "      <th>veraend_vorjahresmonat_prozent</th>\n",
       "      <th>zwoelf_monate_mittelwert</th>\n",
       "      <th>Seasonal First Difference</th>\n",
       "      <th>forecast</th>\n",
       "    </tr>\n",
       "  </thead>\n",
       "  <tbody>\n",
       "    <tr>\n",
       "      <th>0</th>\n",
       "      <td>Alkoholunfälle</td>\n",
       "      <td>insgesamt</td>\n",
       "      <td>2000</td>\n",
       "      <td>2000-01-01</td>\n",
       "      <td>78.0</td>\n",
       "      <td>NaN</td>\n",
       "      <td>NaN</td>\n",
       "      <td>NaN</td>\n",
       "      <td>78.0</td>\n",
       "      <td>NaN</td>\n",
       "      <td>NaN</td>\n",
       "    </tr>\n",
       "    <tr>\n",
       "      <th>1</th>\n",
       "      <td>Alkoholunfälle</td>\n",
       "      <td>insgesamt</td>\n",
       "      <td>2000</td>\n",
       "      <td>2000-02-01</td>\n",
       "      <td>53.0</td>\n",
       "      <td>NaN</td>\n",
       "      <td>-32.05</td>\n",
       "      <td>NaN</td>\n",
       "      <td>66.0</td>\n",
       "      <td>NaN</td>\n",
       "      <td>NaN</td>\n",
       "    </tr>\n",
       "    <tr>\n",
       "      <th>2</th>\n",
       "      <td>Alkoholunfälle</td>\n",
       "      <td>insgesamt</td>\n",
       "      <td>2000</td>\n",
       "      <td>2000-03-01</td>\n",
       "      <td>73.0</td>\n",
       "      <td>NaN</td>\n",
       "      <td>37.74</td>\n",
       "      <td>NaN</td>\n",
       "      <td>68.0</td>\n",
       "      <td>NaN</td>\n",
       "      <td>NaN</td>\n",
       "    </tr>\n",
       "    <tr>\n",
       "      <th>3</th>\n",
       "      <td>Alkoholunfälle</td>\n",
       "      <td>insgesamt</td>\n",
       "      <td>2000</td>\n",
       "      <td>2000-04-01</td>\n",
       "      <td>78.0</td>\n",
       "      <td>NaN</td>\n",
       "      <td>6.85</td>\n",
       "      <td>NaN</td>\n",
       "      <td>71.0</td>\n",
       "      <td>NaN</td>\n",
       "      <td>NaN</td>\n",
       "    </tr>\n",
       "    <tr>\n",
       "      <th>4</th>\n",
       "      <td>Alkoholunfälle</td>\n",
       "      <td>insgesamt</td>\n",
       "      <td>2000</td>\n",
       "      <td>2000-05-01</td>\n",
       "      <td>96.0</td>\n",
       "      <td>NaN</td>\n",
       "      <td>23.08</td>\n",
       "      <td>NaN</td>\n",
       "      <td>76.0</td>\n",
       "      <td>NaN</td>\n",
       "      <td>NaN</td>\n",
       "    </tr>\n",
       "    <tr>\n",
       "      <th>...</th>\n",
       "      <td>...</td>\n",
       "      <td>...</td>\n",
       "      <td>...</td>\n",
       "      <td>...</td>\n",
       "      <td>...</td>\n",
       "      <td>...</td>\n",
       "      <td>...</td>\n",
       "      <td>...</td>\n",
       "      <td>...</td>\n",
       "      <td>...</td>\n",
       "      <td>...</td>\n",
       "    </tr>\n",
       "    <tr>\n",
       "      <th>247</th>\n",
       "      <td>Alkoholunfälle</td>\n",
       "      <td>insgesamt</td>\n",
       "      <td>2020</td>\n",
       "      <td>2020-08-01</td>\n",
       "      <td>46.0</td>\n",
       "      <td>31.0</td>\n",
       "      <td>-20.69</td>\n",
       "      <td>48.39</td>\n",
       "      <td>39.0</td>\n",
       "      <td>15.0</td>\n",
       "      <td>36.166553</td>\n",
       "    </tr>\n",
       "    <tr>\n",
       "      <th>248</th>\n",
       "      <td>Alkoholunfälle</td>\n",
       "      <td>insgesamt</td>\n",
       "      <td>2020</td>\n",
       "      <td>2020-09-01</td>\n",
       "      <td>46.0</td>\n",
       "      <td>47.0</td>\n",
       "      <td>0.00</td>\n",
       "      <td>-2.13</td>\n",
       "      <td>39.0</td>\n",
       "      <td>-1.0</td>\n",
       "      <td>41.926703</td>\n",
       "    </tr>\n",
       "    <tr>\n",
       "      <th>249</th>\n",
       "      <td>Alkoholunfälle</td>\n",
       "      <td>insgesamt</td>\n",
       "      <td>2020</td>\n",
       "      <td>2020-10-01</td>\n",
       "      <td>34.0</td>\n",
       "      <td>45.0</td>\n",
       "      <td>-26.09</td>\n",
       "      <td>-24.44</td>\n",
       "      <td>38.0</td>\n",
       "      <td>-11.0</td>\n",
       "      <td>30.458438</td>\n",
       "    </tr>\n",
       "    <tr>\n",
       "      <th>250</th>\n",
       "      <td>Alkoholunfälle</td>\n",
       "      <td>insgesamt</td>\n",
       "      <td>2020</td>\n",
       "      <td>2020-11-01</td>\n",
       "      <td>23.0</td>\n",
       "      <td>29.0</td>\n",
       "      <td>-32.35</td>\n",
       "      <td>-20.69</td>\n",
       "      <td>38.0</td>\n",
       "      <td>-6.0</td>\n",
       "      <td>29.957373</td>\n",
       "    </tr>\n",
       "    <tr>\n",
       "      <th>251</th>\n",
       "      <td>Alkoholunfälle</td>\n",
       "      <td>insgesamt</td>\n",
       "      <td>2020</td>\n",
       "      <td>2020-12-01</td>\n",
       "      <td>13.0</td>\n",
       "      <td>35.0</td>\n",
       "      <td>-43.48</td>\n",
       "      <td>-62.86</td>\n",
       "      <td>36.0</td>\n",
       "      <td>-22.0</td>\n",
       "      <td>NaN</td>\n",
       "    </tr>\n",
       "  </tbody>\n",
       "</table>\n",
       "<p>252 rows × 11 columns</p>\n",
       "</div>"
      ],
      "text/plain": [
       "         monatszahl auspraegung  jahr      monat  wert  vorjahreswert  \\\n",
       "0    Alkoholunfälle   insgesamt  2000 2000-01-01  78.0            NaN   \n",
       "1    Alkoholunfälle   insgesamt  2000 2000-02-01  53.0            NaN   \n",
       "2    Alkoholunfälle   insgesamt  2000 2000-03-01  73.0            NaN   \n",
       "3    Alkoholunfälle   insgesamt  2000 2000-04-01  78.0            NaN   \n",
       "4    Alkoholunfälle   insgesamt  2000 2000-05-01  96.0            NaN   \n",
       "..              ...         ...   ...        ...   ...            ...   \n",
       "247  Alkoholunfälle   insgesamt  2020 2020-08-01  46.0           31.0   \n",
       "248  Alkoholunfälle   insgesamt  2020 2020-09-01  46.0           47.0   \n",
       "249  Alkoholunfälle   insgesamt  2020 2020-10-01  34.0           45.0   \n",
       "250  Alkoholunfälle   insgesamt  2020 2020-11-01  23.0           29.0   \n",
       "251  Alkoholunfälle   insgesamt  2020 2020-12-01  13.0           35.0   \n",
       "\n",
       "     veraend_vormonat_prozent  veraend_vorjahresmonat_prozent  \\\n",
       "0                         NaN                             NaN   \n",
       "1                      -32.05                             NaN   \n",
       "2                       37.74                             NaN   \n",
       "3                        6.85                             NaN   \n",
       "4                       23.08                             NaN   \n",
       "..                        ...                             ...   \n",
       "247                    -20.69                           48.39   \n",
       "248                      0.00                           -2.13   \n",
       "249                    -26.09                          -24.44   \n",
       "250                    -32.35                          -20.69   \n",
       "251                    -43.48                          -62.86   \n",
       "\n",
       "     zwoelf_monate_mittelwert  Seasonal First Difference   forecast  \n",
       "0                        78.0                        NaN        NaN  \n",
       "1                        66.0                        NaN        NaN  \n",
       "2                        68.0                        NaN        NaN  \n",
       "3                        71.0                        NaN        NaN  \n",
       "4                        76.0                        NaN        NaN  \n",
       "..                        ...                        ...        ...  \n",
       "247                      39.0                       15.0  36.166553  \n",
       "248                      39.0                       -1.0  41.926703  \n",
       "249                      38.0                      -11.0  30.458438  \n",
       "250                      38.0                       -6.0  29.957373  \n",
       "251                      36.0                      -22.0        NaN  \n",
       "\n",
       "[252 rows x 11 columns]"
      ]
     },
     "execution_count": 52,
     "metadata": {},
     "output_type": "execute_result"
    }
   ],
   "source": [
    "train_df2"
   ]
  },
  {
   "cell_type": "code",
   "execution_count": 357,
   "metadata": {},
   "outputs": [
    {
     "data": {
      "text/plain": [
       "<AxesSubplot:>"
      ]
     },
     "execution_count": 357,
     "metadata": {},
     "output_type": "execute_result"
    },
    {
     "data": {
      "image/png": "[encoded data removed]",
      "text/plain": [
       "<Figure size 432x288 with 1 Axes>"
      ]
     },
     "metadata": {
      "needs_background": "light"
     },
     "output_type": "display_data"
    }
   ],
   "source": [
    "pred.plot(legend='ARIMA Predictions')\n",
    "test['wert'].plot(legend=True)"
   ]
  },
  {
   "cell_type": "code",
   "execution_count": 358,
   "metadata": {},
   "outputs": [
    {
     "data": {
      "text/html": [
       "<div><div id=a930db73-8b80-4210-9866-5355a0f02cd5 style=\"display:none; background-color:#9D6CFF; color:white; width:200px; height:30px; padding-left:5px; border-radius:4px; flex-direction:row; justify-content:space-around; align-items:center;\" onmouseover=\"this.style.backgroundColor='#BA9BF8'\" onmouseout=\"this.style.backgroundColor='#9D6CFF'\" onclick=\"window.commands?.execute('create-mitosheet-from-dataframe-output');\">See Full Dataframe in Mito</div> <script> if (window.commands.hasCommand('create-mitosheet-from-dataframe-output')) document.getElementById('a930db73-8b80-4210-9866-5355a0f02cd5').style.display = 'flex' </script> <table border=\"1\" class=\"dataframe\">\n",
       "  <thead>\n",
       "    <tr style=\"text-align: right;\">\n",
       "      <th></th>\n",
       "      <th>monatszahl</th>\n",
       "      <th>auspraegung</th>\n",
       "      <th>jahr</th>\n",
       "      <th>monat</th>\n",
       "      <th>wert</th>\n",
       "      <th>vorjahreswert</th>\n",
       "      <th>veraend_vormonat_prozent</th>\n",
       "      <th>veraend_vorjahresmonat_prozent</th>\n",
       "      <th>zwoelf_monate_mittelwert</th>\n",
       "      <th>Seasonal First Difference</th>\n",
       "      <th>forecast</th>\n",
       "    </tr>\n",
       "  </thead>\n",
       "  <tbody>\n",
       "    <tr>\n",
       "      <th>247</th>\n",
       "      <td>Alkoholunfälle</td>\n",
       "      <td>insgesamt</td>\n",
       "      <td>2020</td>\n",
       "      <td>2020-08-01</td>\n",
       "      <td>46.0</td>\n",
       "      <td>31.0</td>\n",
       "      <td>-20.69</td>\n",
       "      <td>48.39</td>\n",
       "      <td>39.0</td>\n",
       "      <td>15.0</td>\n",
       "      <td>36.166551</td>\n",
       "    </tr>\n",
       "    <tr>\n",
       "      <th>248</th>\n",
       "      <td>Alkoholunfälle</td>\n",
       "      <td>insgesamt</td>\n",
       "      <td>2020</td>\n",
       "      <td>2020-09-01</td>\n",
       "      <td>46.0</td>\n",
       "      <td>47.0</td>\n",
       "      <td>0.00</td>\n",
       "      <td>-2.13</td>\n",
       "      <td>39.0</td>\n",
       "      <td>-1.0</td>\n",
       "      <td>41.926701</td>\n",
       "    </tr>\n",
       "    <tr>\n",
       "      <th>249</th>\n",
       "      <td>Alkoholunfälle</td>\n",
       "      <td>insgesamt</td>\n",
       "      <td>2020</td>\n",
       "      <td>2020-10-01</td>\n",
       "      <td>34.0</td>\n",
       "      <td>45.0</td>\n",
       "      <td>-26.09</td>\n",
       "      <td>-24.44</td>\n",
       "      <td>38.0</td>\n",
       "      <td>-11.0</td>\n",
       "      <td>30.458436</td>\n",
       "    </tr>\n",
       "    <tr>\n",
       "      <th>250</th>\n",
       "      <td>Alkoholunfälle</td>\n",
       "      <td>insgesamt</td>\n",
       "      <td>2020</td>\n",
       "      <td>2020-11-01</td>\n",
       "      <td>23.0</td>\n",
       "      <td>29.0</td>\n",
       "      <td>-32.35</td>\n",
       "      <td>-20.69</td>\n",
       "      <td>38.0</td>\n",
       "      <td>-6.0</td>\n",
       "      <td>29.957371</td>\n",
       "    </tr>\n",
       "    <tr>\n",
       "      <th>251</th>\n",
       "      <td>Alkoholunfälle</td>\n",
       "      <td>insgesamt</td>\n",
       "      <td>2020</td>\n",
       "      <td>2020-12-01</td>\n",
       "      <td>13.0</td>\n",
       "      <td>35.0</td>\n",
       "      <td>-43.48</td>\n",
       "      <td>-62.86</td>\n",
       "      <td>36.0</td>\n",
       "      <td>-22.0</td>\n",
       "      <td>NaN</td>\n",
       "    </tr>\n",
       "  </tbody>\n",
       "</table></div>"
      ],
      "text/plain": [
       "         monatszahl auspraegung  jahr      monat  wert  vorjahreswert  \\\n",
       "247  Alkoholunfälle   insgesamt  2020 2020-08-01  46.0           31.0   \n",
       "248  Alkoholunfälle   insgesamt  2020 2020-09-01  46.0           47.0   \n",
       "249  Alkoholunfälle   insgesamt  2020 2020-10-01  34.0           45.0   \n",
       "250  Alkoholunfälle   insgesamt  2020 2020-11-01  23.0           29.0   \n",
       "251  Alkoholunfälle   insgesamt  2020 2020-12-01  13.0           35.0   \n",
       "\n",
       "     veraend_vormonat_prozent  veraend_vorjahresmonat_prozent  \\\n",
       "247                    -20.69                           48.39   \n",
       "248                      0.00                           -2.13   \n",
       "249                    -26.09                          -24.44   \n",
       "250                    -32.35                          -20.69   \n",
       "251                    -43.48                          -62.86   \n",
       "\n",
       "     zwoelf_monate_mittelwert  Seasonal First Difference   forecast  \n",
       "247                      39.0                       15.0  36.166551  \n",
       "248                      39.0                       -1.0  41.926701  \n",
       "249                      38.0                      -11.0  30.458436  \n",
       "250                      38.0                       -6.0  29.957371  \n",
       "251                      36.0                      -22.0        NaN  "
      ]
     },
     "execution_count": 358,
     "metadata": {},
     "output_type": "execute_result"
    }
   ],
   "source": [
    "train_df2.tail()"
   ]
  },
  {
   "cell_type": "markdown",
   "metadata": {},
   "source": [
    "# For Future Dates"
   ]
  },
  {
   "cell_type": "code",
   "execution_count": 363,
   "metadata": {},
   "outputs": [
    {
     "data": {
      "text/html": [
       "<div><div id=e596bc2e-310e-4538-95ea-403433dde485 style=\"display:none; background-color:#9D6CFF; color:white; width:200px; height:30px; padding-left:5px; border-radius:4px; flex-direction:row; justify-content:space-around; align-items:center;\" onmouseover=\"this.style.backgroundColor='#BA9BF8'\" onmouseout=\"this.style.backgroundColor='#9D6CFF'\" onclick=\"window.commands?.execute('create-mitosheet-from-dataframe-output');\">See Full Dataframe in Mito</div> <script> if (window.commands.hasCommand('create-mitosheet-from-dataframe-output')) document.getElementById('e596bc2e-310e-4538-95ea-403433dde485').style.display = 'flex' </script> <table border=\"1\" class=\"dataframe\">\n",
       "  <thead>\n",
       "    <tr style=\"text-align: right;\">\n",
       "      <th></th>\n",
       "      <th>monatszahl</th>\n",
       "      <th>auspraegung</th>\n",
       "      <th>jahr</th>\n",
       "      <th>monat</th>\n",
       "      <th>wert</th>\n",
       "      <th>vorjahreswert</th>\n",
       "      <th>veraend_vormonat_prozent</th>\n",
       "      <th>veraend_vorjahresmonat_prozent</th>\n",
       "      <th>zwoelf_monate_mittelwert</th>\n",
       "      <th>Seasonal First Difference</th>\n",
       "      <th>forecast</th>\n",
       "    </tr>\n",
       "  </thead>\n",
       "  <tbody>\n",
       "    <tr>\n",
       "      <th>247</th>\n",
       "      <td>Alkoholunfälle</td>\n",
       "      <td>insgesamt</td>\n",
       "      <td>2020</td>\n",
       "      <td>2020-08-01</td>\n",
       "      <td>46.0</td>\n",
       "      <td>31.0</td>\n",
       "      <td>-20.69</td>\n",
       "      <td>48.39</td>\n",
       "      <td>39.0</td>\n",
       "      <td>15.0</td>\n",
       "      <td>36.166551</td>\n",
       "    </tr>\n",
       "    <tr>\n",
       "      <th>248</th>\n",
       "      <td>Alkoholunfälle</td>\n",
       "      <td>insgesamt</td>\n",
       "      <td>2020</td>\n",
       "      <td>2020-09-01</td>\n",
       "      <td>46.0</td>\n",
       "      <td>47.0</td>\n",
       "      <td>0.00</td>\n",
       "      <td>-2.13</td>\n",
       "      <td>39.0</td>\n",
       "      <td>-1.0</td>\n",
       "      <td>41.926701</td>\n",
       "    </tr>\n",
       "    <tr>\n",
       "      <th>249</th>\n",
       "      <td>Alkoholunfälle</td>\n",
       "      <td>insgesamt</td>\n",
       "      <td>2020</td>\n",
       "      <td>2020-10-01</td>\n",
       "      <td>34.0</td>\n",
       "      <td>45.0</td>\n",
       "      <td>-26.09</td>\n",
       "      <td>-24.44</td>\n",
       "      <td>38.0</td>\n",
       "      <td>-11.0</td>\n",
       "      <td>30.458436</td>\n",
       "    </tr>\n",
       "    <tr>\n",
       "      <th>250</th>\n",
       "      <td>Alkoholunfälle</td>\n",
       "      <td>insgesamt</td>\n",
       "      <td>2020</td>\n",
       "      <td>2020-11-01</td>\n",
       "      <td>23.0</td>\n",
       "      <td>29.0</td>\n",
       "      <td>-32.35</td>\n",
       "      <td>-20.69</td>\n",
       "      <td>38.0</td>\n",
       "      <td>-6.0</td>\n",
       "      <td>29.957371</td>\n",
       "    </tr>\n",
       "    <tr>\n",
       "      <th>251</th>\n",
       "      <td>Alkoholunfälle</td>\n",
       "      <td>insgesamt</td>\n",
       "      <td>2020</td>\n",
       "      <td>2020-12-01</td>\n",
       "      <td>13.0</td>\n",
       "      <td>35.0</td>\n",
       "      <td>-43.48</td>\n",
       "      <td>-62.86</td>\n",
       "      <td>36.0</td>\n",
       "      <td>-22.0</td>\n",
       "      <td>NaN</td>\n",
       "    </tr>\n",
       "  </tbody>\n",
       "</table></div>"
      ],
      "text/plain": [
       "         monatszahl auspraegung  jahr      monat  wert  vorjahreswert  \\\n",
       "247  Alkoholunfälle   insgesamt  2020 2020-08-01  46.0           31.0   \n",
       "248  Alkoholunfälle   insgesamt  2020 2020-09-01  46.0           47.0   \n",
       "249  Alkoholunfälle   insgesamt  2020 2020-10-01  34.0           45.0   \n",
       "250  Alkoholunfälle   insgesamt  2020 2020-11-01  23.0           29.0   \n",
       "251  Alkoholunfälle   insgesamt  2020 2020-12-01  13.0           35.0   \n",
       "\n",
       "     veraend_vormonat_prozent  veraend_vorjahresmonat_prozent  \\\n",
       "247                    -20.69                           48.39   \n",
       "248                      0.00                           -2.13   \n",
       "249                    -26.09                          -24.44   \n",
       "250                    -32.35                          -20.69   \n",
       "251                    -43.48                          -62.86   \n",
       "\n",
       "     zwoelf_monate_mittelwert  Seasonal First Difference   forecast  \n",
       "247                      39.0                       15.0  36.166551  \n",
       "248                      39.0                       -1.0  41.926701  \n",
       "249                      38.0                      -11.0  30.458436  \n",
       "250                      38.0                       -6.0  29.957371  \n",
       "251                      36.0                      -22.0        NaN  "
      ]
     },
     "execution_count": 363,
     "metadata": {},
     "output_type": "execute_result"
    }
   ],
   "source": [
    "# the predictor field might be \"wert\"\n",
    "#modell=ARIMA(train['wert'],order=(1,1,1))\n",
    "#modell=model.fit()\n",
    "#modell.summary()\n",
    "\n",
    "model2=ARIMA(train_df2['wert'],order=(1,1,1))\n",
    "model2=model2.fit()\n",
    "train_df2.tail()"
   ]
  },
  {
   "cell_type": "code",
   "execution_count": 364,
   "metadata": {},
   "outputs": [
    {
     "name": "stdout",
     "output_type": "stream",
     "text": [
      "2020-12-01    22.048067\n",
      "2020-12-02    27.438504\n",
      "2020-12-03    30.766734\n",
      "2020-12-04    30.568513\n",
      "2020-12-05    37.855028\n",
      "2020-12-06    41.668237\n",
      "2020-12-07    50.681486\n",
      "2020-12-08    39.083181\n",
      "2020-12-09    44.452927\n",
      "2020-12-10    37.986738\n",
      "2020-12-11    29.749977\n",
      "2020-12-12    27.360432\n",
      "2020-12-13    24.109832\n",
      "2020-12-14    28.765299\n",
      "2020-12-15    30.777483\n",
      "2020-12-16    30.506705\n",
      "2020-12-17    38.278322\n",
      "2020-12-18    42.467361\n",
      "2020-12-19    51.479631\n",
      "2020-12-20    39.852204\n",
      "2020-12-21    44.832685\n",
      "2020-12-22    37.965339\n",
      "2020-12-23    29.528264\n",
      "2020-12-24    26.587021\n",
      "2020-12-25    24.227978\n",
      "2020-12-26    28.936725\n",
      "2020-12-27    31.044312\n",
      "2020-12-28    30.778794\n",
      "2020-12-29    38.515245\n",
      "2020-12-30    42.677038\n",
      "2020-12-31    51.689379\n",
      "2021-01-01    40.064064\n",
      "2021-01-02    45.072763\n",
      "2021-01-03    38.234498\n",
      "Freq: D, Name: ARIMA Predictions, dtype: float64\n"
     ]
    }
   ],
   "source": [
    "index_future_dates=pd.date_range(start='2020-12-01',end='2021-01-03')\n",
    "#print(index_future_dates)\n",
    "pred=modell.predict(start=len(train_df2),end=len(train_df2)+33,typ='levels').rename('ARIMA Predictions')\n",
    "#print(comp_pred)\n",
    "pred.index=index_future_dates\n",
    "print(pred)"
   ]
  },
  {
   "cell_type": "markdown",
   "metadata": {},
   "source": [
    "### Final"
   ]
  },
  {
   "cell_type": "code",
   "execution_count": 72,
   "metadata": {},
   "outputs": [],
   "source": [
    "start=len(train_df2)\n",
    "end=len(train_df2)+12-1\n",
    "\n",
    "my_result2 = modell.predict(\n",
    "    start=start,\n",
    "    end=end,\n",
    "    typ='levels').rename(\n",
    "    'ARIMA predictions'\n",
    ")"
   ]
  },
  {
   "cell_type": "code",
   "execution_count": 73,
   "metadata": {},
   "outputs": [
    {
     "data": {
      "text/plain": [
       "41.668236223561564"
      ]
     },
     "execution_count": 73,
     "metadata": {},
     "output_type": "execute_result"
    }
   ],
   "source": [
    "my_result2.values[6-1]"
   ]
  },
  {
   "cell_type": "code",
   "execution_count": 62,
   "metadata": {},
   "outputs": [
    {
     "data": {
      "text/plain": [
       "253"
      ]
     },
     "execution_count": 62,
     "metadata": {},
     "output_type": "execute_result"
    }
   ],
   "source": [
    "end"
   ]
  },
  {
   "cell_type": "code",
   "execution_count": 366,
   "metadata": {},
   "outputs": [],
   "source": [
    "#my_result2 = model2.forecast(12)\n",
    "#my_result2"
   ]
  },
  {
   "cell_type": "code",
   "execution_count": 74,
   "metadata": {},
   "outputs": [
    {
     "name": "stdout",
     "output_type": "stream",
     "text": [
      "Requirement already satisfied: flask in /Users/valiant/forge/.env/lib/python3.8/site-packages (1.1.2)\n",
      "Requirement already satisfied: click>=5.1 in /Users/valiant/forge/.env/lib/python3.8/site-packages (from flask) (7.1.2)\n",
      "Requirement already satisfied: Jinja2>=2.10.1 in /Users/valiant/forge/.env/lib/python3.8/site-packages (from flask) (2.11.3)\n",
      "Requirement already satisfied: Werkzeug>=0.15 in /Users/valiant/forge/.env/lib/python3.8/site-packages (from flask) (1.0.1)\n",
      "Requirement already satisfied: itsdangerous>=0.24 in /Users/valiant/forge/.env/lib/python3.8/site-packages (from flask) (1.1.0)\n",
      "Requirement already satisfied: MarkupSafe>=0.23 in /Users/valiant/forge/.env/lib/python3.8/site-packages (from Jinja2>=2.10.1->flask) (1.1.1)\n"
     ]
    }
   ],
   "source": [
    "!pip install flask"
   ]
  }
 ],
 "metadata": {
  "kernelspec": {
   "display_name": "Python 3 (ipykernel)",
   "language": "python",
   "name": "python3"
  },
  "language_info": {
   "codemirror_mode": {
    "name": "ipython",
    "version": 3
   },
   "file_extension": ".py",
   "mimetype": "text/x-python",
   "name": "python",
   "nbconvert_exporter": "python",
   "pygments_lexer": "ipython3",
   "version": "3.8.2"
  }
 },
 "nbformat": 4,
 "nbformat_minor": 4
}
